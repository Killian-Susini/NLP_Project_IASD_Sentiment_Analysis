{
  "cells": [
    {
      "cell_type": "markdown",
      "metadata": {
        "id": "s2zewuz6cFKo"
      },
      "source": [
        "Presented by :*KHEDIM IBTISSEM*\n",
        "\n",
        "Reference : [Fine-Tuning-BERT](https://github.com/prateekjoshi565/Fine-Tuning-BERT/blob/master/Fine_Tuning_BERT_for_Spam_Classification.ipynb)\n"
      ]
    },
    {
      "cell_type": "markdown",
      "metadata": {
        "id": "OFOTiqrtNvyy"
      },
      "source": [
        "# Import libraries "
      ]
    },
    {
      "cell_type": "code",
      "execution_count": null,
      "metadata": {
        "colab": {
          "base_uri": "https://localhost:8080/"
        },
        "id": "1hkhc10wNrGt",
        "outputId": "a3fe46de-e31d-4b97-fc4a-e5660a1b4c19"
      },
      "outputs": [
        {
          "output_type": "stream",
          "name": "stdout",
          "text": [
            "Looking in indexes: https://pypi.org/simple, https://us-python.pkg.dev/colab-wheels/public/simple/\n",
            "Collecting transformers\n",
            "  Downloading transformers-4.29.1-py3-none-any.whl (7.1 MB)\n",
            "\u001b[2K     \u001b[90m━━━━━━━━━━━━━━━━━━━━━━━━━━━━━━━━━━━━━━━━\u001b[0m \u001b[32m7.1/7.1 MB\u001b[0m \u001b[31m24.6 MB/s\u001b[0m eta \u001b[36m0:00:00\u001b[0m\n",
            "\u001b[?25hRequirement already satisfied: filelock in /usr/local/lib/python3.10/dist-packages (from transformers) (3.12.0)\n",
            "Collecting huggingface-hub<1.0,>=0.14.1 (from transformers)\n",
            "  Downloading huggingface_hub-0.14.1-py3-none-any.whl (224 kB)\n",
            "\u001b[2K     \u001b[90m━━━━━━━━━━━━━━━━━━━━━━━━━━━━━━━━━━━━━━\u001b[0m \u001b[32m224.5/224.5 kB\u001b[0m \u001b[31m23.9 MB/s\u001b[0m eta \u001b[36m0:00:00\u001b[0m\n",
            "\u001b[?25hRequirement already satisfied: numpy>=1.17 in /usr/local/lib/python3.10/dist-packages (from transformers) (1.22.4)\n",
            "Requirement already satisfied: packaging>=20.0 in /usr/local/lib/python3.10/dist-packages (from transformers) (23.1)\n",
            "Requirement already satisfied: pyyaml>=5.1 in /usr/local/lib/python3.10/dist-packages (from transformers) (6.0)\n",
            "Requirement already satisfied: regex!=2019.12.17 in /usr/local/lib/python3.10/dist-packages (from transformers) (2022.10.31)\n",
            "Requirement already satisfied: requests in /usr/local/lib/python3.10/dist-packages (from transformers) (2.27.1)\n",
            "Collecting tokenizers!=0.11.3,<0.14,>=0.11.1 (from transformers)\n",
            "  Downloading tokenizers-0.13.3-cp310-cp310-manylinux_2_17_x86_64.manylinux2014_x86_64.whl (7.8 MB)\n",
            "\u001b[2K     \u001b[90m━━━━━━━━━━━━━━━━━━━━━━━━━━━━━━━━━━━━━━━━\u001b[0m \u001b[32m7.8/7.8 MB\u001b[0m \u001b[31m118.3 MB/s\u001b[0m eta \u001b[36m0:00:00\u001b[0m\n",
            "\u001b[?25hRequirement already satisfied: tqdm>=4.27 in /usr/local/lib/python3.10/dist-packages (from transformers) (4.65.0)\n",
            "Requirement already satisfied: fsspec in /usr/local/lib/python3.10/dist-packages (from huggingface-hub<1.0,>=0.14.1->transformers) (2023.4.0)\n",
            "Requirement already satisfied: typing-extensions>=3.7.4.3 in /usr/local/lib/python3.10/dist-packages (from huggingface-hub<1.0,>=0.14.1->transformers) (4.5.0)\n",
            "Requirement already satisfied: urllib3<1.27,>=1.21.1 in /usr/local/lib/python3.10/dist-packages (from requests->transformers) (1.26.15)\n",
            "Requirement already satisfied: certifi>=2017.4.17 in /usr/local/lib/python3.10/dist-packages (from requests->transformers) (2022.12.7)\n",
            "Requirement already satisfied: charset-normalizer~=2.0.0 in /usr/local/lib/python3.10/dist-packages (from requests->transformers) (2.0.12)\n",
            "Requirement already satisfied: idna<4,>=2.5 in /usr/local/lib/python3.10/dist-packages (from requests->transformers) (3.4)\n",
            "Installing collected packages: tokenizers, huggingface-hub, transformers\n",
            "Successfully installed huggingface-hub-0.14.1 tokenizers-0.13.3 transformers-4.29.1\n"
          ]
        }
      ],
      "source": [
        "!pip install transformers"
      ]
    },
    {
      "cell_type": "code",
      "execution_count": null,
      "metadata": {
        "id": "x4giRzM7NtHJ"
      },
      "outputs": [],
      "source": [
        "import numpy as np\n",
        "import pandas as pd\n",
        "import torch\n",
        "import torch.nn as nn\n",
        "from sklearn.model_selection import train_test_split\n",
        "from sklearn.metrics import classification_report\n",
        "import transformers\n",
        "from transformers import AutoModel, BertTokenizerFast\n",
        "import time\n",
        "\n",
        "# specify GPU\n",
        "device = torch.device(\"cuda:0\")"
      ]
    },
    {
      "cell_type": "markdown",
      "metadata": {
        "id": "kKd-Tj3hOMsZ"
      },
      "source": [
        "# Load Dataset"
      ]
    },
    {
      "cell_type": "code",
      "execution_count": null,
      "metadata": {
        "colab": {
          "base_uri": "https://localhost:8080/"
        },
        "id": "_P1w5kMxcO2d",
        "outputId": "97d396cb-5f5f-425d-b784-86cf90c167c6"
      },
      "outputs": [
        {
          "output_type": "stream",
          "name": "stdout",
          "text": [
            "Mounted at /content/gdrive\n"
          ]
        }
      ],
      "source": [
        "from google.colab import drive\n",
        "drive.mount('/content/gdrive')"
      ]
    },
    {
      "cell_type": "code",
      "execution_count": null,
      "metadata": {
        "id": "cwJrQFQgN_BE"
      },
      "outputs": [],
      "source": [
        "#df = pd.read_csv(\"/content/gdrive/MyDrive/IASD_2/NLP/test.csv\")\n",
        "#Read data\n",
        "train_path=\"/content/gdrive/MyDrive/IASD_2/NLP/train.csv\"\n",
        "df_train= pd.read_csv(train_path , header = None)"
      ]
    },
    {
      "cell_type": "code",
      "source": [
        "test_path=\"/content/gdrive/MyDrive/IASD_2/NLP/test.csv\"\n",
        "df_test= pd.read_csv(test_path , header = None)"
      ],
      "metadata": {
        "id": "eqGtFjyUAKyi"
      },
      "execution_count": null,
      "outputs": []
    },
    {
      "cell_type": "code",
      "source": [
        "df_test.head()"
      ],
      "metadata": {
        "colab": {
          "base_uri": "https://localhost:8080/",
          "height": 206
        },
        "id": "ABAkfMxuMDoR",
        "outputId": "06bde1a8-0d96-4148-eed8-e7d8198c0d24"
      },
      "execution_count": null,
      "outputs": [
        {
          "output_type": "execute_result",
          "data": {
            "text/plain": [
              "   0                                                  1  \\\n",
              "0  2                                           Great CD   \n",
              "1  2  One of the best game music soundtracks - for a...   \n",
              "2  1                   Batteries died within a year ...   \n",
              "3  2              works fine, but Maha Energy is better   \n",
              "4  2                       Great for the non-audiophile   \n",
              "\n",
              "                                                   2  \n",
              "0  My lovely Pat has one of the GREAT voices of h...  \n",
              "1  Despite the fact that I have only played a sma...  \n",
              "2  I bought this charger in Jul 2003 and it worke...  \n",
              "3  Check out Maha Energy's website. Their Powerex...  \n",
              "4  Reviewed quite a bit of the combo players and ...  "
            ],
            "text/html": [
              "\n",
              "  <div id=\"df-766dd788-fd73-417a-a8f1-709b2d21c465\">\n",
              "    <div class=\"colab-df-container\">\n",
              "      <div>\n",
              "<style scoped>\n",
              "    .dataframe tbody tr th:only-of-type {\n",
              "        vertical-align: middle;\n",
              "    }\n",
              "\n",
              "    .dataframe tbody tr th {\n",
              "        vertical-align: top;\n",
              "    }\n",
              "\n",
              "    .dataframe thead th {\n",
              "        text-align: right;\n",
              "    }\n",
              "</style>\n",
              "<table border=\"1\" class=\"dataframe\">\n",
              "  <thead>\n",
              "    <tr style=\"text-align: right;\">\n",
              "      <th></th>\n",
              "      <th>0</th>\n",
              "      <th>1</th>\n",
              "      <th>2</th>\n",
              "    </tr>\n",
              "  </thead>\n",
              "  <tbody>\n",
              "    <tr>\n",
              "      <th>0</th>\n",
              "      <td>2</td>\n",
              "      <td>Great CD</td>\n",
              "      <td>My lovely Pat has one of the GREAT voices of h...</td>\n",
              "    </tr>\n",
              "    <tr>\n",
              "      <th>1</th>\n",
              "      <td>2</td>\n",
              "      <td>One of the best game music soundtracks - for a...</td>\n",
              "      <td>Despite the fact that I have only played a sma...</td>\n",
              "    </tr>\n",
              "    <tr>\n",
              "      <th>2</th>\n",
              "      <td>1</td>\n",
              "      <td>Batteries died within a year ...</td>\n",
              "      <td>I bought this charger in Jul 2003 and it worke...</td>\n",
              "    </tr>\n",
              "    <tr>\n",
              "      <th>3</th>\n",
              "      <td>2</td>\n",
              "      <td>works fine, but Maha Energy is better</td>\n",
              "      <td>Check out Maha Energy's website. Their Powerex...</td>\n",
              "    </tr>\n",
              "    <tr>\n",
              "      <th>4</th>\n",
              "      <td>2</td>\n",
              "      <td>Great for the non-audiophile</td>\n",
              "      <td>Reviewed quite a bit of the combo players and ...</td>\n",
              "    </tr>\n",
              "  </tbody>\n",
              "</table>\n",
              "</div>\n",
              "      <button class=\"colab-df-convert\" onclick=\"convertToInteractive('df-766dd788-fd73-417a-a8f1-709b2d21c465')\"\n",
              "              title=\"Convert this dataframe to an interactive table.\"\n",
              "              style=\"display:none;\">\n",
              "        \n",
              "  <svg xmlns=\"http://www.w3.org/2000/svg\" height=\"24px\"viewBox=\"0 0 24 24\"\n",
              "       width=\"24px\">\n",
              "    <path d=\"M0 0h24v24H0V0z\" fill=\"none\"/>\n",
              "    <path d=\"M18.56 5.44l.94 2.06.94-2.06 2.06-.94-2.06-.94-.94-2.06-.94 2.06-2.06.94zm-11 1L8.5 8.5l.94-2.06 2.06-.94-2.06-.94L8.5 2.5l-.94 2.06-2.06.94zm10 10l.94 2.06.94-2.06 2.06-.94-2.06-.94-.94-2.06-.94 2.06-2.06.94z\"/><path d=\"M17.41 7.96l-1.37-1.37c-.4-.4-.92-.59-1.43-.59-.52 0-1.04.2-1.43.59L10.3 9.45l-7.72 7.72c-.78.78-.78 2.05 0 2.83L4 21.41c.39.39.9.59 1.41.59.51 0 1.02-.2 1.41-.59l7.78-7.78 2.81-2.81c.8-.78.8-2.07 0-2.86zM5.41 20L4 18.59l7.72-7.72 1.47 1.35L5.41 20z\"/>\n",
              "  </svg>\n",
              "      </button>\n",
              "      \n",
              "  <style>\n",
              "    .colab-df-container {\n",
              "      display:flex;\n",
              "      flex-wrap:wrap;\n",
              "      gap: 12px;\n",
              "    }\n",
              "\n",
              "    .colab-df-convert {\n",
              "      background-color: #E8F0FE;\n",
              "      border: none;\n",
              "      border-radius: 50%;\n",
              "      cursor: pointer;\n",
              "      display: none;\n",
              "      fill: #1967D2;\n",
              "      height: 32px;\n",
              "      padding: 0 0 0 0;\n",
              "      width: 32px;\n",
              "    }\n",
              "\n",
              "    .colab-df-convert:hover {\n",
              "      background-color: #E2EBFA;\n",
              "      box-shadow: 0px 1px 2px rgba(60, 64, 67, 0.3), 0px 1px 3px 1px rgba(60, 64, 67, 0.15);\n",
              "      fill: #174EA6;\n",
              "    }\n",
              "\n",
              "    [theme=dark] .colab-df-convert {\n",
              "      background-color: #3B4455;\n",
              "      fill: #D2E3FC;\n",
              "    }\n",
              "\n",
              "    [theme=dark] .colab-df-convert:hover {\n",
              "      background-color: #434B5C;\n",
              "      box-shadow: 0px 1px 3px 1px rgba(0, 0, 0, 0.15);\n",
              "      filter: drop-shadow(0px 1px 2px rgba(0, 0, 0, 0.3));\n",
              "      fill: #FFFFFF;\n",
              "    }\n",
              "  </style>\n",
              "\n",
              "      <script>\n",
              "        const buttonEl =\n",
              "          document.querySelector('#df-766dd788-fd73-417a-a8f1-709b2d21c465 button.colab-df-convert');\n",
              "        buttonEl.style.display =\n",
              "          google.colab.kernel.accessAllowed ? 'block' : 'none';\n",
              "\n",
              "        async function convertToInteractive(key) {\n",
              "          const element = document.querySelector('#df-766dd788-fd73-417a-a8f1-709b2d21c465');\n",
              "          const dataTable =\n",
              "            await google.colab.kernel.invokeFunction('convertToInteractive',\n",
              "                                                     [key], {});\n",
              "          if (!dataTable) return;\n",
              "\n",
              "          const docLinkHtml = 'Like what you see? Visit the ' +\n",
              "            '<a target=\"_blank\" href=https://colab.research.google.com/notebooks/data_table.ipynb>data table notebook</a>'\n",
              "            + ' to learn more about interactive tables.';\n",
              "          element.innerHTML = '';\n",
              "          dataTable['output_type'] = 'display_data';\n",
              "          await google.colab.output.renderOutput(dataTable, element);\n",
              "          const docLink = document.createElement('div');\n",
              "          docLink.innerHTML = docLinkHtml;\n",
              "          element.appendChild(docLink);\n",
              "        }\n",
              "      </script>\n",
              "    </div>\n",
              "  </div>\n",
              "  "
            ]
          },
          "metadata": {},
          "execution_count": 28
        }
      ]
    },
    {
      "cell_type": "code",
      "execution_count": null,
      "metadata": {
        "colab": {
          "base_uri": "https://localhost:8080/"
        },
        "id": "fzPPOrVQWiW5",
        "outputId": "6df0919d-7936-4143-afc3-609bd0fd2c8d"
      },
      "outputs": [
        {
          "output_type": "execute_result",
          "data": {
            "text/plain": [
              "(3600000, 3)"
            ]
          },
          "metadata": {},
          "execution_count": 5
        }
      ],
      "source": [
        "df_train.shape"
      ]
    },
    {
      "cell_type": "markdown",
      "metadata": {
        "id": "MKfWnApvOoE7"
      },
      "source": [
        "# Split train dataset into train, validation and test sets"
      ]
    },
    {
      "cell_type": "code",
      "execution_count": null,
      "metadata": {
        "id": "B22L6wp9nUPv"
      },
      "outputs": [],
      "source": [
        "df_train['title_text'] = df_train[1] + ' ' + df_train[2]\n",
        "df_train = df_train.dropna()\n",
        "df_train = df_train.sample(100000)"
      ]
    },
    {
      "cell_type": "code",
      "source": [
        "df_test['title_text'] = df_test[1] + ' ' + df_test[2]\n",
        "df_test = df_test.dropna()\n",
        "df_test = df_test.sample(20000)"
      ],
      "metadata": {
        "id": "apzKHmadANuc"
      },
      "execution_count": null,
      "outputs": []
    },
    {
      "cell_type": "code",
      "execution_count": null,
      "metadata": {
        "colab": {
          "base_uri": "https://localhost:8080/",
          "height": 206
        },
        "id": "zB6wHoD88IuB",
        "outputId": "0c700b3f-5d8e-4ac0-ef36-bebbeea88fc3"
      },
      "outputs": [
        {
          "output_type": "execute_result",
          "data": {
            "text/plain": [
              "         0                                      1  \\\n",
              "1120349  1                       Archaic Artifact   \n",
              "2529860  2                              Excellent   \n",
              "2750328  2  Just Good and Okay, but not Excellent   \n",
              "2626716  1                   Great story, bad DVD   \n",
              "2493994  2   Stevie Wonder--Definitive Collection   \n",
              "\n",
              "                                                         2  \\\n",
              "1120349  This is not a practical book for anyone involv...   \n",
              "2529860  Being deeply spiritual I now understand why we...   \n",
              "2750328  I enjoyed playing this immersive adventure to ...   \n",
              "2626716  Though this is a good story about a very conse...   \n",
              "2493994  First of all, Stevie Wonder is an icon. Most o...   \n",
              "\n",
              "                                                title_text  \n",
              "1120349  Archaic Artifact This is not a practical book ...  \n",
              "2529860  Excellent Being deeply spiritual I now underst...  \n",
              "2750328  Just Good and Okay, but not Excellent I enjoye...  \n",
              "2626716  Great story, bad DVD Though this is a good sto...  \n",
              "2493994  Stevie Wonder--Definitive Collection First of ...  "
            ],
            "text/html": [
              "\n",
              "  <div id=\"df-bbb8e8a5-b10c-4f10-96ec-1b23414bd9a8\">\n",
              "    <div class=\"colab-df-container\">\n",
              "      <div>\n",
              "<style scoped>\n",
              "    .dataframe tbody tr th:only-of-type {\n",
              "        vertical-align: middle;\n",
              "    }\n",
              "\n",
              "    .dataframe tbody tr th {\n",
              "        vertical-align: top;\n",
              "    }\n",
              "\n",
              "    .dataframe thead th {\n",
              "        text-align: right;\n",
              "    }\n",
              "</style>\n",
              "<table border=\"1\" class=\"dataframe\">\n",
              "  <thead>\n",
              "    <tr style=\"text-align: right;\">\n",
              "      <th></th>\n",
              "      <th>0</th>\n",
              "      <th>1</th>\n",
              "      <th>2</th>\n",
              "      <th>title_text</th>\n",
              "    </tr>\n",
              "  </thead>\n",
              "  <tbody>\n",
              "    <tr>\n",
              "      <th>1120349</th>\n",
              "      <td>1</td>\n",
              "      <td>Archaic Artifact</td>\n",
              "      <td>This is not a practical book for anyone involv...</td>\n",
              "      <td>Archaic Artifact This is not a practical book ...</td>\n",
              "    </tr>\n",
              "    <tr>\n",
              "      <th>2529860</th>\n",
              "      <td>2</td>\n",
              "      <td>Excellent</td>\n",
              "      <td>Being deeply spiritual I now understand why we...</td>\n",
              "      <td>Excellent Being deeply spiritual I now underst...</td>\n",
              "    </tr>\n",
              "    <tr>\n",
              "      <th>2750328</th>\n",
              "      <td>2</td>\n",
              "      <td>Just Good and Okay, but not Excellent</td>\n",
              "      <td>I enjoyed playing this immersive adventure to ...</td>\n",
              "      <td>Just Good and Okay, but not Excellent I enjoye...</td>\n",
              "    </tr>\n",
              "    <tr>\n",
              "      <th>2626716</th>\n",
              "      <td>1</td>\n",
              "      <td>Great story, bad DVD</td>\n",
              "      <td>Though this is a good story about a very conse...</td>\n",
              "      <td>Great story, bad DVD Though this is a good sto...</td>\n",
              "    </tr>\n",
              "    <tr>\n",
              "      <th>2493994</th>\n",
              "      <td>2</td>\n",
              "      <td>Stevie Wonder--Definitive Collection</td>\n",
              "      <td>First of all, Stevie Wonder is an icon. Most o...</td>\n",
              "      <td>Stevie Wonder--Definitive Collection First of ...</td>\n",
              "    </tr>\n",
              "  </tbody>\n",
              "</table>\n",
              "</div>\n",
              "      <button class=\"colab-df-convert\" onclick=\"convertToInteractive('df-bbb8e8a5-b10c-4f10-96ec-1b23414bd9a8')\"\n",
              "              title=\"Convert this dataframe to an interactive table.\"\n",
              "              style=\"display:none;\">\n",
              "        \n",
              "  <svg xmlns=\"http://www.w3.org/2000/svg\" height=\"24px\"viewBox=\"0 0 24 24\"\n",
              "       width=\"24px\">\n",
              "    <path d=\"M0 0h24v24H0V0z\" fill=\"none\"/>\n",
              "    <path d=\"M18.56 5.44l.94 2.06.94-2.06 2.06-.94-2.06-.94-.94-2.06-.94 2.06-2.06.94zm-11 1L8.5 8.5l.94-2.06 2.06-.94-2.06-.94L8.5 2.5l-.94 2.06-2.06.94zm10 10l.94 2.06.94-2.06 2.06-.94-2.06-.94-.94-2.06-.94 2.06-2.06.94z\"/><path d=\"M17.41 7.96l-1.37-1.37c-.4-.4-.92-.59-1.43-.59-.52 0-1.04.2-1.43.59L10.3 9.45l-7.72 7.72c-.78.78-.78 2.05 0 2.83L4 21.41c.39.39.9.59 1.41.59.51 0 1.02-.2 1.41-.59l7.78-7.78 2.81-2.81c.8-.78.8-2.07 0-2.86zM5.41 20L4 18.59l7.72-7.72 1.47 1.35L5.41 20z\"/>\n",
              "  </svg>\n",
              "      </button>\n",
              "      \n",
              "  <style>\n",
              "    .colab-df-container {\n",
              "      display:flex;\n",
              "      flex-wrap:wrap;\n",
              "      gap: 12px;\n",
              "    }\n",
              "\n",
              "    .colab-df-convert {\n",
              "      background-color: #E8F0FE;\n",
              "      border: none;\n",
              "      border-radius: 50%;\n",
              "      cursor: pointer;\n",
              "      display: none;\n",
              "      fill: #1967D2;\n",
              "      height: 32px;\n",
              "      padding: 0 0 0 0;\n",
              "      width: 32px;\n",
              "    }\n",
              "\n",
              "    .colab-df-convert:hover {\n",
              "      background-color: #E2EBFA;\n",
              "      box-shadow: 0px 1px 2px rgba(60, 64, 67, 0.3), 0px 1px 3px 1px rgba(60, 64, 67, 0.15);\n",
              "      fill: #174EA6;\n",
              "    }\n",
              "\n",
              "    [theme=dark] .colab-df-convert {\n",
              "      background-color: #3B4455;\n",
              "      fill: #D2E3FC;\n",
              "    }\n",
              "\n",
              "    [theme=dark] .colab-df-convert:hover {\n",
              "      background-color: #434B5C;\n",
              "      box-shadow: 0px 1px 3px 1px rgba(0, 0, 0, 0.15);\n",
              "      filter: drop-shadow(0px 1px 2px rgba(0, 0, 0, 0.3));\n",
              "      fill: #FFFFFF;\n",
              "    }\n",
              "  </style>\n",
              "\n",
              "      <script>\n",
              "        const buttonEl =\n",
              "          document.querySelector('#df-bbb8e8a5-b10c-4f10-96ec-1b23414bd9a8 button.colab-df-convert');\n",
              "        buttonEl.style.display =\n",
              "          google.colab.kernel.accessAllowed ? 'block' : 'none';\n",
              "\n",
              "        async function convertToInteractive(key) {\n",
              "          const element = document.querySelector('#df-bbb8e8a5-b10c-4f10-96ec-1b23414bd9a8');\n",
              "          const dataTable =\n",
              "            await google.colab.kernel.invokeFunction('convertToInteractive',\n",
              "                                                     [key], {});\n",
              "          if (!dataTable) return;\n",
              "\n",
              "          const docLinkHtml = 'Like what you see? Visit the ' +\n",
              "            '<a target=\"_blank\" href=https://colab.research.google.com/notebooks/data_table.ipynb>data table notebook</a>'\n",
              "            + ' to learn more about interactive tables.';\n",
              "          element.innerHTML = '';\n",
              "          dataTable['output_type'] = 'display_data';\n",
              "          await google.colab.output.renderOutput(dataTable, element);\n",
              "          const docLink = document.createElement('div');\n",
              "          docLink.innerHTML = docLinkHtml;\n",
              "          element.appendChild(docLink);\n",
              "        }\n",
              "      </script>\n",
              "    </div>\n",
              "  </div>\n",
              "  "
            ]
          },
          "metadata": {},
          "execution_count": 8
        }
      ],
      "source": [
        "df_train.head()"
      ]
    },
    {
      "cell_type": "code",
      "execution_count": null,
      "metadata": {
        "id": "tJUVk5Do8mPr"
      },
      "outputs": [],
      "source": [
        "new_labels = {1: 0,\n",
        "                     2: 1}"
      ]
    },
    {
      "cell_type": "code",
      "execution_count": null,
      "metadata": {
        "id": "wfDmf_LN9LD6"
      },
      "outputs": [],
      "source": [
        "df_train[0] = df_train[0].map(new_labels)"
      ]
    },
    {
      "cell_type": "code",
      "source": [
        "df_test[0] = df_test[0].map(new_labels)"
      ],
      "metadata": {
        "id": "HiP--ojqATLR"
      },
      "execution_count": null,
      "outputs": []
    },
    {
      "cell_type": "code",
      "execution_count": null,
      "metadata": {
        "id": "mfhSPF5jOWb7"
      },
      "outputs": [],
      "source": [
        "train_text, val_text, train_labels, val_labels = train_test_split(df_train['title_text'], df_train[0], \n",
        "                                                                    random_state=2018, \n",
        "                                                                    test_size=0.2, \n",
        "                                                                    stratify=df_train[0])\n",
        "# we will use temp_text and temp_labels to create validation and test set\n",
        "# val_text, test_text, val_labels, test_labels = train_test_split(temp_text, temp_labels, \n",
        "#                                                                 random_state=2018, \n",
        "#                                                                 test_size=0.5, \n",
        "#               "
      ]
    },
    {
      "cell_type": "code",
      "source": [
        "_, test_text, _, test_labels = train_test_split(df_test['title_text'], df_test[0], \n",
        "                                                                    random_state=2018, \n",
        "                                                                    test_size=0.99, \n",
        "                                                                    stratify=df_test[0])"
      ],
      "metadata": {
        "id": "uUUx0w5zAVWd"
      },
      "execution_count": null,
      "outputs": []
    },
    {
      "cell_type": "markdown",
      "metadata": {
        "id": "n7hsdLoCO7uB"
      },
      "source": [
        "\n",
        "# Import BERT Model and BERT Tokenizer"
      ]
    },
    {
      "cell_type": "code",
      "execution_count": null,
      "metadata": {
        "colab": {
          "base_uri": "https://localhost:8080/"
        },
        "id": "S1kY3gZjO2RE",
        "outputId": "9b662aec-41a5-47cb-f259-230b82e9af03"
      },
      "outputs": [
        {
          "output_type": "stream",
          "name": "stderr",
          "text": [
            "Some weights of the model checkpoint at bert-base-uncased were not used when initializing BertModel: ['cls.seq_relationship.bias', 'cls.seq_relationship.weight', 'cls.predictions.transform.dense.weight', 'cls.predictions.transform.LayerNorm.weight', 'cls.predictions.decoder.weight', 'cls.predictions.transform.LayerNorm.bias', 'cls.predictions.transform.dense.bias', 'cls.predictions.bias']\n",
            "- This IS expected if you are initializing BertModel from the checkpoint of a model trained on another task or with another architecture (e.g. initializing a BertForSequenceClassification model from a BertForPreTraining model).\n",
            "- This IS NOT expected if you are initializing BertModel from the checkpoint of a model that you expect to be exactly identical (initializing a BertForSequenceClassification model from a BertForSequenceClassification model).\n"
          ]
        }
      ],
      "source": [
        "# import BERT-base pretrained model\n",
        "bert = AutoModel.from_pretrained('bert-base-uncased')\n",
        "\n",
        "# Load the BERT tokenizer\n",
        "tokenizer = BertTokenizerFast.from_pretrained('bert-base-uncased')"
      ]
    },
    {
      "cell_type": "code",
      "execution_count": null,
      "metadata": {
        "id": "_zOKeOMeO-DT"
      },
      "outputs": [],
      "source": [
        "# sample data\n",
        "text = [\"this is a bert model tutorial\", \"we will fine-tune a bert model\"]\n",
        "\n",
        "# encode text\n",
        "sent_id = tokenizer.batch_encode_plus(text, padding=True, return_token_type_ids=False)"
      ]
    },
    {
      "cell_type": "code",
      "execution_count": null,
      "metadata": {
        "colab": {
          "base_uri": "https://localhost:8080/"
        },
        "id": "oAH73n39PHLw",
        "outputId": "88129b87-c7e9-4d51-c1fd-94e045fe20a3"
      },
      "outputs": [
        {
          "output_type": "stream",
          "name": "stdout",
          "text": [
            "{'input_ids': [[101, 2023, 2003, 1037, 14324, 2944, 14924, 4818, 102, 0], [101, 2057, 2097, 2986, 1011, 8694, 1037, 14324, 2944, 102]], 'attention_mask': [[1, 1, 1, 1, 1, 1, 1, 1, 1, 0], [1, 1, 1, 1, 1, 1, 1, 1, 1, 1]]}\n"
          ]
        }
      ],
      "source": [
        "# output\n",
        "print(sent_id)"
      ]
    },
    {
      "cell_type": "markdown",
      "metadata": {
        "id": "8wIYaWI_Prg8"
      },
      "source": [
        "# Tokenization"
      ]
    },
    {
      "cell_type": "code",
      "execution_count": null,
      "metadata": {
        "id": "yKwbpeN_PMiu"
      },
      "outputs": [],
      "source": [
        "# get length of all the messages in the train set\n",
        "seq_len = [len(k.split()) for k in train_text]"
      ]
    },
    {
      "cell_type": "code",
      "execution_count": null,
      "metadata": {
        "colab": {
          "base_uri": "https://localhost:8080/",
          "height": 447
        },
        "id": "z3fyDf8rtveq",
        "outputId": "b4b9f554-96d7-461a-d782-375a2f5328ed"
      },
      "outputs": [
        {
          "output_type": "execute_result",
          "data": {
            "text/plain": [
              "<Axes: >"
            ]
          },
          "metadata": {},
          "execution_count": 16
        },
        {
          "output_type": "display_data",
          "data": {
            "text/plain": [
              "<Figure size 640x480 with 1 Axes>"
            ],
            "image/png": "[encoded data removed]"
          },
          "metadata": {}
        }
      ],
      "source": [
        "pd.Series(seq_len).hist(bins = 30)"
      ]
    },
    {
      "cell_type": "code",
      "execution_count": null,
      "metadata": {
        "id": "OXcswEIRPvGe"
      },
      "outputs": [],
      "source": [
        "max_seq_len = 25"
      ]
    },
    {
      "cell_type": "code",
      "execution_count": null,
      "metadata": {
        "colab": {
          "base_uri": "https://localhost:8080/"
        },
        "id": "Ui82-1BFwWsP",
        "outputId": "bac7d9f0-e7f5-4e90-e4dd-d0618da2bd71"
      },
      "outputs": [
        {
          "output_type": "execute_result",
          "data": {
            "text/plain": [
              "[\"Tiresome Beware this guide: it is riddled with misinformation (directing one, for example, to the shuttered Bettmann Archive) and other errors of fact and interpretation. It is good on architecture and theater, terrible on literary New York. I couldn't figure who the target audience was--tourists? the newly resettled? --but much of the information is easily available elsewhere, and the 'attitude' is highly tiresome.\",\n",
              " \"Great product Used it on some week old soda pop stains and a fresh cat barf stain with excellent results. Then tried it on a couple ancient dirty oil spots we'd given up on. It took 3 treatments, but they are down to just a shadow of a stain. You really have to look to pick them out. This stuff is the best we've found for spot cleaning carpets, with a reasonable smell and no skin irritation. Great product. Recommended.\"]"
            ]
          },
          "metadata": {},
          "execution_count": 18
        }
      ],
      "source": [
        "train_text.tolist()[0:2]"
      ]
    },
    {
      "cell_type": "code",
      "execution_count": null,
      "metadata": {
        "colab": {
          "base_uri": "https://localhost:8080/"
        },
        "id": "tk5S7DWaP2t6",
        "outputId": "a5ee9675-8023-475a-cce0-d1623938de90"
      },
      "outputs": [
        {
          "output_type": "stream",
          "name": "stderr",
          "text": [
            "/usr/local/lib/python3.10/dist-packages/transformers/tokenization_utils_base.py:2364: FutureWarning: The `pad_to_max_length` argument is deprecated and will be removed in a future version, use `padding=True` or `padding='longest'` to pad to the longest sequence in the batch, or use `padding='max_length'` to pad to a max length. In this case, you can give a specific length with `max_length` (e.g. `max_length=45`) or leave max_length to None to pad to the maximal input size of the model (e.g. 512 for Bert).\n",
            "  warnings.warn(\n"
          ]
        }
      ],
      "source": [
        "# tokenize and encode sequences in the training set\n",
        "tokens_train = tokenizer.batch_encode_plus(\n",
        "    train_text.tolist(),\n",
        "    max_length = max_seq_len,\n",
        "    pad_to_max_length=True,\n",
        "    truncation=True,\n",
        "    return_token_type_ids=False\n",
        ")\n",
        "\n",
        "# tokenize and encode sequences in the validation set\n",
        "tokens_val = tokenizer.batch_encode_plus(\n",
        "    val_text.tolist(),\n",
        "    max_length = max_seq_len,\n",
        "    pad_to_max_length=True,\n",
        "    truncation=True,\n",
        "    return_token_type_ids=False\n",
        ")"
      ]
    },
    {
      "cell_type": "code",
      "source": [
        "# tokenize and encode sequences in the test set\n",
        "tokens_test = tokenizer.batch_encode_plus(\n",
        "    test_text.tolist(),\n",
        "    max_length = max_seq_len,\n",
        "    pad_to_max_length=True,\n",
        "    truncation=True,\n",
        "    return_token_type_ids=False\n",
        ")"
      ],
      "metadata": {
        "colab": {
          "base_uri": "https://localhost:8080/"
        },
        "id": "k-OR4l_VAbS7",
        "outputId": "088d0720-7d5f-403c-f24c-018101defc09"
      },
      "execution_count": null,
      "outputs": [
        {
          "output_type": "stream",
          "name": "stderr",
          "text": [
            "/usr/local/lib/python3.10/dist-packages/transformers/tokenization_utils_base.py:2364: FutureWarning: The `pad_to_max_length` argument is deprecated and will be removed in a future version, use `padding=True` or `padding='longest'` to pad to the longest sequence in the batch, or use `padding='max_length'` to pad to a max length. In this case, you can give a specific length with `max_length` (e.g. `max_length=45`) or leave max_length to None to pad to the maximal input size of the model (e.g. 512 for Bert).\n",
            "  warnings.warn(\n"
          ]
        }
      ]
    },
    {
      "cell_type": "markdown",
      "metadata": {
        "id": "Wsm8bkRZQTw9"
      },
      "source": [
        "# Convert Integer Sequences to Tensors"
      ]
    },
    {
      "cell_type": "code",
      "execution_count": null,
      "metadata": {
        "id": "QR-lXwmzQPd6"
      },
      "outputs": [],
      "source": [
        "# for train set\n",
        "train_seq = torch.tensor(tokens_train['input_ids'])\n",
        "train_mask = torch.tensor(tokens_train['attention_mask'])\n",
        "train_y = torch.tensor(train_labels.tolist())\n",
        "\n",
        "# for validation set\n",
        "val_seq = torch.tensor(tokens_val['input_ids'])\n",
        "val_mask = torch.tensor(tokens_val['attention_mask'])\n",
        "val_y = torch.tensor(val_labels.tolist())"
      ]
    },
    {
      "cell_type": "code",
      "source": [
        "# for test set\n",
        "test_seq = torch.tensor(tokens_test['input_ids'])\n",
        "test_mask = torch.tensor(tokens_test['attention_mask'])\n",
        "test_y = torch.tensor(test_labels.tolist())"
      ],
      "metadata": {
        "id": "sb654QL-AqHV"
      },
      "execution_count": null,
      "outputs": []
    },
    {
      "cell_type": "markdown",
      "metadata": {
        "id": "Ov1cOBlcRLuk"
      },
      "source": [
        "# Create DataLoaders"
      ]
    },
    {
      "cell_type": "code",
      "execution_count": null,
      "metadata": {
        "id": "qUy9JKFYQYLp"
      },
      "outputs": [],
      "source": [
        "from torch.utils.data import TensorDataset, DataLoader, RandomSampler, SequentialSampler\n",
        "\n",
        "#define a batch size\n",
        "batch_size = 32\n",
        "\n",
        "# wrap tensors\n",
        "train_data = TensorDataset(train_seq, train_mask, train_y)\n",
        "\n",
        "# sampler for sampling the data during training\n",
        "train_sampler = RandomSampler(train_data)\n",
        "\n",
        "# dataLoader for train set\n",
        "train_dataloader = DataLoader(train_data, sampler=train_sampler, batch_size=batch_size)\n",
        "\n",
        "# wrap tensors\n",
        "val_data = TensorDataset(val_seq, val_mask, val_y)\n",
        "\n",
        "# sampler for sampling the data during training\n",
        "val_sampler = SequentialSampler(val_data)\n",
        "\n",
        "# dataLoader for validation set\n",
        "val_dataloader = DataLoader(val_data, sampler = val_sampler, batch_size=batch_size)"
      ]
    },
    {
      "cell_type": "markdown",
      "metadata": {
        "id": "K2HZc5ZYRV28"
      },
      "source": [
        "# Freeze BERT Parameters"
      ]
    },
    {
      "cell_type": "code",
      "execution_count": null,
      "metadata": {
        "id": "wHZ0MC00RQA_"
      },
      "outputs": [],
      "source": [
        "# freeze all the parameters\n",
        "for param in bert.parameters():\n",
        "    param.requires_grad = False"
      ]
    },
    {
      "cell_type": "markdown",
      "metadata": {
        "id": "s7ahGBUWRi3X"
      },
      "source": [
        "# Define Model Architecture"
      ]
    },
    {
      "cell_type": "code",
      "execution_count": null,
      "metadata": {
        "id": "b3iEtGyYRd0A"
      },
      "outputs": [],
      "source": [
        "class BERT_Arch(nn.Module):\n",
        "    def __init__(self, bert):\n",
        "      super(BERT_Arch, self).__init__()\n",
        "      self.bert = bert \n",
        "      # dropout layer\n",
        "      self.dropout = nn.Dropout(0.1)\n",
        "      # relu activation function\n",
        "      self.relu =  nn.ReLU()\n",
        "      # dense layer 1\n",
        "      self.fc1 = nn.Linear(768,512)\n",
        "      # dense layer 2 (Output layer)\n",
        "      self.fc2 = nn.Linear(512,2)\n",
        "      #softmax activation function\n",
        "      self.softmax = nn.LogSoftmax(dim=1)\n",
        "    #define the forward pass\n",
        "    def forward(self, sent_id, mask):\n",
        "      #pass the inputs to the model  \n",
        "      _, cls_hs = self.bert(sent_id, attention_mask=mask,return_dict=False)\n",
        "      x = self.fc1(cls_hs)\n",
        "      x = self.relu(x)\n",
        "      x = self.dropout(x)\n",
        "      # output layer\n",
        "      x = self.fc2(x)\n",
        "      # apply softmax activation\n",
        "      x = self.softmax(x)\n",
        "      return x"
      ]
    },
    {
      "cell_type": "code",
      "execution_count": null,
      "metadata": {
        "id": "74BzRVVHCBiF"
      },
      "outputs": [],
      "source": [
        "# pass the pre-trained BERT to our define architecture\n",
        "model = BERT_Arch(bert)"
      ]
    },
    {
      "cell_type": "code",
      "execution_count": null,
      "metadata": {
        "id": "cBAJJVuJRliv"
      },
      "outputs": [],
      "source": [
        "\n",
        "# push the model to GPU\n",
        "model = model.to(device)"
      ]
    },
    {
      "cell_type": "code",
      "execution_count": null,
      "metadata": {
        "id": "taXS0IilRn9J",
        "colab": {
          "base_uri": "https://localhost:8080/"
        },
        "outputId": "7cbd58b8-79d9-4671-ad5e-1edcb0057cd7"
      },
      "outputs": [
        {
          "output_type": "stream",
          "name": "stderr",
          "text": [
            "/usr/local/lib/python3.10/dist-packages/transformers/optimization.py:407: FutureWarning: This implementation of AdamW is deprecated and will be removed in a future version. Use the PyTorch implementation torch.optim.AdamW instead, or set `no_deprecation_warning=True` to disable this warning\n",
            "  warnings.warn(\n"
          ]
        }
      ],
      "source": [
        "# optimizer from hugging face transformers\n",
        "from transformers import AdamW\n",
        "\n",
        "# define the optimizer\n",
        "optimizer = AdamW(model.parameters(), lr = 1e-3)"
      ]
    },
    {
      "cell_type": "markdown",
      "metadata": {
        "id": "j9CDpoMQR_rK"
      },
      "source": [
        "# Find Class Weights"
      ]
    },
    {
      "cell_type": "code",
      "execution_count": null,
      "metadata": {
        "id": "izY5xH5eR7Ur"
      },
      "outputs": [],
      "source": [
        "from sklearn.utils.class_weight import compute_class_weight\n",
        "\n",
        "#compute the class weights\n",
        "class_wts = compute_class_weight(class_weight = \"balanced\",\n",
        "                                        classes = np.unique(train_labels),\n",
        "                                        y = train_labels)\n",
        "\n",
        "print(class_wts)"
      ]
    },
    {
      "cell_type": "code",
      "execution_count": null,
      "metadata": {
        "id": "r1WvfY2vSGKi"
      },
      "outputs": [],
      "source": [
        "# convert class weights to tensor\n",
        "weights= torch.tensor(class_wts,dtype=torch.float)\n",
        "weights = weights.to(device)\n",
        "\n",
        "# loss function\n",
        "cross_entropy  = nn.NLLLoss(weight=weights) \n",
        "\n",
        "# number of training epochs\n",
        "epochs = 10"
      ]
    },
    {
      "cell_type": "markdown",
      "metadata": {
        "id": "My4CA0qaShLq"
      },
      "source": [
        "# Fine-Tune BERT"
      ]
    },
    {
      "cell_type": "code",
      "execution_count": null,
      "metadata": {
        "id": "rskLk8R_SahS"
      },
      "outputs": [],
      "source": [
        "# function to train the model\n",
        "def train():\n",
        "  \n",
        "  model.train()\n",
        "\n",
        "  total_loss, total_accuracy = 0, 0\n",
        "  \n",
        "  # empty list to save model predictions\n",
        "  total_preds=[]\n",
        "  \n",
        "  # iterate over batches\n",
        "  for step,batch in enumerate(train_dataloader):\n",
        "    \n",
        "    # progress update after every 50 batches.\n",
        "    if step % 50 == 0 and not step == 0:\n",
        "      print('  Batch {:>5,}  of  {:>5,}.'.format(step, len(train_dataloader)))\n",
        "\n",
        "    # push the batch to gpu\n",
        "    batch = [r.to(device) for r in batch]\n",
        " \n",
        "    sent_id, mask, labels = batch\n",
        "\n",
        "    # clear previously calculated gradients \n",
        "    model.zero_grad()        \n",
        "\n",
        "    # get model predictions for the current batch\n",
        "    preds = model(sent_id, mask)\n",
        "\n",
        "    # compute the loss between actual and predicted values\n",
        "    loss = cross_entropy(preds, labels)\n",
        "\n",
        "    # add on to the total loss\n",
        "    total_loss = total_loss + loss.item()\n",
        "\n",
        "    # backward pass to calculate the gradients\n",
        "    loss.backward()\n",
        "\n",
        "    # clip the the gradients to 1.0. It helps in preventing the exploding gradient problem\n",
        "    torch.nn.utils.clip_grad_norm_(model.parameters(), 1.0)\n",
        "\n",
        "    # update parameters\n",
        "    optimizer.step()\n",
        "\n",
        "    # model predictions are stored on GPU. So, push it to CPU\n",
        "    preds=preds.detach().cpu().numpy()\n",
        "\n",
        "    # append the model predictions\n",
        "    total_preds.append(preds)\n",
        "\n",
        "  # compute the training loss of the epoch\n",
        "  avg_loss = total_loss / len(train_dataloader)\n",
        "  \n",
        "  # predictions are in the form of (no. of batches, size of batch, no. of classes).\n",
        "  # reshape the predictions in form of (number of samples, no. of classes)\n",
        "  total_preds  = np.concatenate(total_preds, axis=0)\n",
        "\n",
        "  #returns the loss and predictions\n",
        "  return avg_loss, total_preds"
      ]
    },
    {
      "cell_type": "code",
      "execution_count": null,
      "metadata": {
        "id": "yGXovFDlSxB5"
      },
      "outputs": [],
      "source": [
        "# function for evaluating the model\n",
        "def evaluate():\n",
        "  \n",
        "  print(\"\\nEvaluating...\")\n",
        "  \n",
        "  # deactivate dropout layers\n",
        "  model.eval()\n",
        "\n",
        "  total_loss, total_accuracy = 0, 0\n",
        "  \n",
        "  # empty list to save the model predictions\n",
        "  total_preds = []\n",
        "\n",
        "  # iterate over batches\n",
        "  for step,batch in enumerate(val_dataloader):\n",
        "    \n",
        "    # Progress update every 50 batches.\n",
        "    if step % 50 == 0 and not step == 0:\n",
        "      \n",
        "      # Calculate elapsed time in minutes.\n",
        "      # elapsed = format_time(time.time() - t0)\n",
        "      #elapsed = time.time() - t0      \n",
        "      # Report progress.\n",
        "      print('  Batch {:>5,}  of  {:>5,}.'.format(step, len(val_dataloader)))\n",
        "\n",
        "    # push the batch to gpu\n",
        "    batch = [t.to(device) for t in batch]\n",
        "\n",
        "    sent_id, mask, labels = batch\n",
        "\n",
        "    # deactivate autograd\n",
        "    with torch.no_grad():\n",
        "      \n",
        "      # model predictions\n",
        "      preds = model(sent_id, mask)\n",
        "\n",
        "      # compute the validation loss between actual and predicted values\n",
        "      loss = cross_entropy(preds,labels)\n",
        "\n",
        "      total_loss = total_loss + loss.item()\n",
        "\n",
        "      preds = preds.detach().cpu().numpy()\n",
        "\n",
        "      total_preds.append(preds)\n",
        "\n",
        "  # compute the validation loss of the epoch\n",
        "  avg_loss = total_loss / len(val_dataloader) \n",
        "\n",
        "  # reshape the predictions in form of (number of samples, no. of classes)\n",
        "  total_preds  = np.concatenate(total_preds, axis=0)\n",
        "\n",
        "  return avg_loss, total_preds"
      ]
    },
    {
      "cell_type": "markdown",
      "metadata": {
        "id": "9KZEgxRRTLXG"
      },
      "source": [
        "# Start Model Training"
      ]
    },
    {
      "cell_type": "code",
      "execution_count": null,
      "metadata": {
        "id": "k1USGTntS3TS",
        "colab": {
          "base_uri": "https://localhost:8080/"
        },
        "outputId": "3829d6b1-21e0-4a76-934e-fd70795031b9"
      },
      "outputs": [
        {
          "output_type": "stream",
          "name": "stdout",
          "text": [
            "\n",
            " Epoch 1 / 10\n",
            "  Batch    50  of  2,500.\n",
            "  Batch   100  of  2,500.\n",
            "  Batch   150  of  2,500.\n",
            "  Batch   200  of  2,500.\n",
            "  Batch   250  of  2,500.\n",
            "  Batch   300  of  2,500.\n",
            "  Batch   350  of  2,500.\n",
            "  Batch   400  of  2,500.\n",
            "  Batch   450  of  2,500.\n",
            "  Batch   500  of  2,500.\n",
            "  Batch   550  of  2,500.\n",
            "  Batch   600  of  2,500.\n",
            "  Batch   650  of  2,500.\n",
            "  Batch   700  of  2,500.\n",
            "  Batch   750  of  2,500.\n",
            "  Batch   800  of  2,500.\n",
            "  Batch   850  of  2,500.\n",
            "  Batch   900  of  2,500.\n",
            "  Batch   950  of  2,500.\n",
            "  Batch 1,000  of  2,500.\n",
            "  Batch 1,050  of  2,500.\n",
            "  Batch 1,100  of  2,500.\n",
            "  Batch 1,150  of  2,500.\n",
            "  Batch 1,200  of  2,500.\n",
            "  Batch 1,250  of  2,500.\n",
            "  Batch 1,300  of  2,500.\n",
            "  Batch 1,350  of  2,500.\n",
            "  Batch 1,400  of  2,500.\n",
            "  Batch 1,450  of  2,500.\n",
            "  Batch 1,500  of  2,500.\n",
            "  Batch 1,550  of  2,500.\n",
            "  Batch 1,600  of  2,500.\n",
            "  Batch 1,650  of  2,500.\n",
            "  Batch 1,700  of  2,500.\n",
            "  Batch 1,750  of  2,500.\n",
            "  Batch 1,800  of  2,500.\n",
            "  Batch 1,850  of  2,500.\n",
            "  Batch 1,900  of  2,500.\n",
            "  Batch 1,950  of  2,500.\n",
            "  Batch 2,000  of  2,500.\n",
            "  Batch 2,050  of  2,500.\n",
            "  Batch 2,100  of  2,500.\n",
            "  Batch 2,150  of  2,500.\n",
            "  Batch 2,200  of  2,500.\n",
            "  Batch 2,250  of  2,500.\n",
            "  Batch 2,300  of  2,500.\n",
            "  Batch 2,350  of  2,500.\n",
            "  Batch 2,400  of  2,500.\n",
            "  Batch 2,450  of  2,500.\n",
            "\n",
            "Evaluating...\n",
            "  Batch    50  of    625.\n",
            "  Batch   100  of    625.\n",
            "  Batch   150  of    625.\n",
            "  Batch   200  of    625.\n",
            "  Batch   250  of    625.\n",
            "  Batch   300  of    625.\n",
            "  Batch   350  of    625.\n",
            "  Batch   400  of    625.\n",
            "  Batch   450  of    625.\n",
            "  Batch   500  of    625.\n",
            "  Batch   550  of    625.\n",
            "  Batch   600  of    625.\n",
            "\n",
            "Training Loss: 0.518\n",
            "Validation Loss: 0.488\n",
            "\n",
            " Epoch 2 / 10\n",
            "  Batch    50  of  2,500.\n",
            "  Batch   100  of  2,500.\n",
            "  Batch   150  of  2,500.\n",
            "  Batch   200  of  2,500.\n",
            "  Batch   250  of  2,500.\n",
            "  Batch   300  of  2,500.\n",
            "  Batch   350  of  2,500.\n",
            "  Batch   400  of  2,500.\n",
            "  Batch   450  of  2,500.\n",
            "  Batch   500  of  2,500.\n",
            "  Batch   550  of  2,500.\n",
            "  Batch   600  of  2,500.\n",
            "  Batch   650  of  2,500.\n",
            "  Batch   700  of  2,500.\n",
            "  Batch   750  of  2,500.\n",
            "  Batch   800  of  2,500.\n",
            "  Batch   850  of  2,500.\n",
            "  Batch   900  of  2,500.\n",
            "  Batch   950  of  2,500.\n",
            "  Batch 1,000  of  2,500.\n",
            "  Batch 1,050  of  2,500.\n",
            "  Batch 1,100  of  2,500.\n",
            "  Batch 1,150  of  2,500.\n",
            "  Batch 1,200  of  2,500.\n",
            "  Batch 1,250  of  2,500.\n",
            "  Batch 1,300  of  2,500.\n",
            "  Batch 1,350  of  2,500.\n",
            "  Batch 1,400  of  2,500.\n",
            "  Batch 1,450  of  2,500.\n",
            "  Batch 1,500  of  2,500.\n",
            "  Batch 1,550  of  2,500.\n",
            "  Batch 1,600  of  2,500.\n",
            "  Batch 1,650  of  2,500.\n",
            "  Batch 1,700  of  2,500.\n",
            "  Batch 1,750  of  2,500.\n",
            "  Batch 1,800  of  2,500.\n",
            "  Batch 1,850  of  2,500.\n",
            "  Batch 1,900  of  2,500.\n",
            "  Batch 1,950  of  2,500.\n",
            "  Batch 2,000  of  2,500.\n",
            "  Batch 2,050  of  2,500.\n",
            "  Batch 2,100  of  2,500.\n",
            "  Batch 2,150  of  2,500.\n",
            "  Batch 2,200  of  2,500.\n",
            "  Batch 2,250  of  2,500.\n",
            "  Batch 2,300  of  2,500.\n",
            "  Batch 2,350  of  2,500.\n",
            "  Batch 2,400  of  2,500.\n",
            "  Batch 2,450  of  2,500.\n",
            "\n",
            "Evaluating...\n",
            "  Batch    50  of    625.\n",
            "  Batch   100  of    625.\n",
            "  Batch   150  of    625.\n",
            "  Batch   200  of    625.\n",
            "  Batch   250  of    625.\n",
            "  Batch   300  of    625.\n",
            "  Batch   350  of    625.\n",
            "  Batch   400  of    625.\n",
            "  Batch   450  of    625.\n",
            "  Batch   500  of    625.\n",
            "  Batch   550  of    625.\n",
            "  Batch   600  of    625.\n",
            "\n",
            "Training Loss: 0.507\n",
            "Validation Loss: 0.467\n",
            "\n",
            " Epoch 3 / 10\n",
            "  Batch    50  of  2,500.\n",
            "  Batch   100  of  2,500.\n",
            "  Batch   150  of  2,500.\n",
            "  Batch   200  of  2,500.\n",
            "  Batch   250  of  2,500.\n",
            "  Batch   300  of  2,500.\n",
            "  Batch   350  of  2,500.\n",
            "  Batch   400  of  2,500.\n",
            "  Batch   450  of  2,500.\n",
            "  Batch   500  of  2,500.\n",
            "  Batch   550  of  2,500.\n",
            "  Batch   600  of  2,500.\n",
            "  Batch   650  of  2,500.\n",
            "  Batch   700  of  2,500.\n",
            "  Batch   750  of  2,500.\n",
            "  Batch   800  of  2,500.\n",
            "  Batch   850  of  2,500.\n",
            "  Batch   900  of  2,500.\n",
            "  Batch   950  of  2,500.\n",
            "  Batch 1,000  of  2,500.\n",
            "  Batch 1,050  of  2,500.\n",
            "  Batch 1,100  of  2,500.\n",
            "  Batch 1,150  of  2,500.\n",
            "  Batch 1,200  of  2,500.\n",
            "  Batch 1,250  of  2,500.\n",
            "  Batch 1,300  of  2,500.\n",
            "  Batch 1,350  of  2,500.\n",
            "  Batch 1,400  of  2,500.\n",
            "  Batch 1,450  of  2,500.\n",
            "  Batch 1,500  of  2,500.\n",
            "  Batch 1,550  of  2,500.\n",
            "  Batch 1,600  of  2,500.\n",
            "  Batch 1,650  of  2,500.\n",
            "  Batch 1,700  of  2,500.\n",
            "  Batch 1,750  of  2,500.\n",
            "  Batch 1,800  of  2,500.\n",
            "  Batch 1,850  of  2,500.\n",
            "  Batch 1,900  of  2,500.\n",
            "  Batch 1,950  of  2,500.\n",
            "  Batch 2,000  of  2,500.\n",
            "  Batch 2,050  of  2,500.\n",
            "  Batch 2,100  of  2,500.\n",
            "  Batch 2,150  of  2,500.\n",
            "  Batch 2,200  of  2,500.\n",
            "  Batch 2,250  of  2,500.\n",
            "  Batch 2,300  of  2,500.\n",
            "  Batch 2,350  of  2,500.\n",
            "  Batch 2,400  of  2,500.\n",
            "  Batch 2,450  of  2,500.\n",
            "\n",
            "Evaluating...\n",
            "  Batch    50  of    625.\n",
            "  Batch   100  of    625.\n",
            "  Batch   150  of    625.\n",
            "  Batch   200  of    625.\n",
            "  Batch   250  of    625.\n",
            "  Batch   300  of    625.\n",
            "  Batch   350  of    625.\n",
            "  Batch   400  of    625.\n",
            "  Batch   450  of    625.\n",
            "  Batch   500  of    625.\n",
            "  Batch   550  of    625.\n",
            "  Batch   600  of    625.\n",
            "\n",
            "Training Loss: 0.498\n",
            "Validation Loss: 0.452\n",
            "\n",
            " Epoch 4 / 10\n",
            "  Batch    50  of  2,500.\n",
            "  Batch   100  of  2,500.\n",
            "  Batch   150  of  2,500.\n",
            "  Batch   200  of  2,500.\n",
            "  Batch   250  of  2,500.\n",
            "  Batch   300  of  2,500.\n",
            "  Batch   350  of  2,500.\n",
            "  Batch   400  of  2,500.\n",
            "  Batch   450  of  2,500.\n",
            "  Batch   500  of  2,500.\n",
            "  Batch   550  of  2,500.\n",
            "  Batch   600  of  2,500.\n",
            "  Batch   650  of  2,500.\n",
            "  Batch   700  of  2,500.\n",
            "  Batch   750  of  2,500.\n",
            "  Batch   800  of  2,500.\n",
            "  Batch   850  of  2,500.\n",
            "  Batch   900  of  2,500.\n",
            "  Batch   950  of  2,500.\n",
            "  Batch 1,000  of  2,500.\n",
            "  Batch 1,050  of  2,500.\n",
            "  Batch 1,100  of  2,500.\n",
            "  Batch 1,150  of  2,500.\n",
            "  Batch 1,200  of  2,500.\n",
            "  Batch 1,250  of  2,500.\n",
            "  Batch 1,300  of  2,500.\n",
            "  Batch 1,350  of  2,500.\n",
            "  Batch 1,400  of  2,500.\n",
            "  Batch 1,450  of  2,500.\n",
            "  Batch 1,500  of  2,500.\n",
            "  Batch 1,550  of  2,500.\n",
            "  Batch 1,600  of  2,500.\n",
            "  Batch 1,650  of  2,500.\n",
            "  Batch 1,700  of  2,500.\n",
            "  Batch 1,750  of  2,500.\n",
            "  Batch 1,800  of  2,500.\n",
            "  Batch 1,850  of  2,500.\n",
            "  Batch 1,900  of  2,500.\n",
            "  Batch 1,950  of  2,500.\n",
            "  Batch 2,000  of  2,500.\n",
            "  Batch 2,050  of  2,500.\n",
            "  Batch 2,100  of  2,500.\n",
            "  Batch 2,150  of  2,500.\n",
            "  Batch 2,200  of  2,500.\n",
            "  Batch 2,250  of  2,500.\n",
            "  Batch 2,300  of  2,500.\n",
            "  Batch 2,350  of  2,500.\n",
            "  Batch 2,400  of  2,500.\n",
            "  Batch 2,450  of  2,500.\n",
            "\n",
            "Evaluating...\n",
            "  Batch    50  of    625.\n",
            "  Batch   100  of    625.\n",
            "  Batch   150  of    625.\n",
            "  Batch   200  of    625.\n",
            "  Batch   250  of    625.\n",
            "  Batch   300  of    625.\n",
            "  Batch   350  of    625.\n",
            "  Batch   400  of    625.\n",
            "  Batch   450  of    625.\n",
            "  Batch   500  of    625.\n",
            "  Batch   550  of    625.\n",
            "  Batch   600  of    625.\n",
            "\n",
            "Training Loss: 0.494\n",
            "Validation Loss: 0.463\n",
            "\n",
            " Epoch 5 / 10\n",
            "  Batch    50  of  2,500.\n",
            "  Batch   100  of  2,500.\n",
            "  Batch   150  of  2,500.\n",
            "  Batch   200  of  2,500.\n",
            "  Batch   250  of  2,500.\n",
            "  Batch   300  of  2,500.\n",
            "  Batch   350  of  2,500.\n",
            "  Batch   400  of  2,500.\n",
            "  Batch   450  of  2,500.\n",
            "  Batch   500  of  2,500.\n",
            "  Batch   550  of  2,500.\n",
            "  Batch   600  of  2,500.\n",
            "  Batch   650  of  2,500.\n",
            "  Batch   700  of  2,500.\n",
            "  Batch   750  of  2,500.\n",
            "  Batch   800  of  2,500.\n",
            "  Batch   850  of  2,500.\n",
            "  Batch   900  of  2,500.\n",
            "  Batch   950  of  2,500.\n",
            "  Batch 1,000  of  2,500.\n",
            "  Batch 1,050  of  2,500.\n",
            "  Batch 1,100  of  2,500.\n",
            "  Batch 1,150  of  2,500.\n",
            "  Batch 1,200  of  2,500.\n",
            "  Batch 1,250  of  2,500.\n",
            "  Batch 1,300  of  2,500.\n",
            "  Batch 1,350  of  2,500.\n",
            "  Batch 1,400  of  2,500.\n",
            "  Batch 1,450  of  2,500.\n",
            "  Batch 1,500  of  2,500.\n",
            "  Batch 1,550  of  2,500.\n",
            "  Batch 1,600  of  2,500.\n",
            "  Batch 1,650  of  2,500.\n",
            "  Batch 1,700  of  2,500.\n",
            "  Batch 1,750  of  2,500.\n",
            "  Batch 1,800  of  2,500.\n",
            "  Batch 1,850  of  2,500.\n",
            "  Batch 1,900  of  2,500.\n",
            "  Batch 1,950  of  2,500.\n",
            "  Batch 2,000  of  2,500.\n",
            "  Batch 2,050  of  2,500.\n",
            "  Batch 2,100  of  2,500.\n",
            "  Batch 2,150  of  2,500.\n",
            "  Batch 2,200  of  2,500.\n",
            "  Batch 2,250  of  2,500.\n",
            "  Batch 2,300  of  2,500.\n",
            "  Batch 2,350  of  2,500.\n",
            "  Batch 2,400  of  2,500.\n",
            "  Batch 2,450  of  2,500.\n",
            "\n",
            "Evaluating...\n",
            "  Batch    50  of    625.\n",
            "  Batch   100  of    625.\n",
            "  Batch   150  of    625.\n",
            "  Batch   200  of    625.\n",
            "  Batch   250  of    625.\n",
            "  Batch   300  of    625.\n",
            "  Batch   350  of    625.\n",
            "  Batch   400  of    625.\n",
            "  Batch   450  of    625.\n",
            "  Batch   500  of    625.\n",
            "  Batch   550  of    625.\n",
            "  Batch   600  of    625.\n",
            "\n",
            "Training Loss: 0.491\n",
            "Validation Loss: 0.447\n",
            "\n",
            " Epoch 6 / 10\n",
            "  Batch    50  of  2,500.\n",
            "  Batch   100  of  2,500.\n",
            "  Batch   150  of  2,500.\n",
            "  Batch   200  of  2,500.\n",
            "  Batch   250  of  2,500.\n",
            "  Batch   300  of  2,500.\n",
            "  Batch   350  of  2,500.\n",
            "  Batch   400  of  2,500.\n",
            "  Batch   450  of  2,500.\n",
            "  Batch   500  of  2,500.\n",
            "  Batch   550  of  2,500.\n",
            "  Batch   600  of  2,500.\n",
            "  Batch   650  of  2,500.\n",
            "  Batch   700  of  2,500.\n",
            "  Batch   750  of  2,500.\n",
            "  Batch   800  of  2,500.\n",
            "  Batch   850  of  2,500.\n",
            "  Batch   900  of  2,500.\n",
            "  Batch   950  of  2,500.\n",
            "  Batch 1,000  of  2,500.\n",
            "  Batch 1,050  of  2,500.\n",
            "  Batch 1,100  of  2,500.\n",
            "  Batch 1,150  of  2,500.\n",
            "  Batch 1,200  of  2,500.\n",
            "  Batch 1,250  of  2,500.\n",
            "  Batch 1,300  of  2,500.\n",
            "  Batch 1,350  of  2,500.\n",
            "  Batch 1,400  of  2,500.\n",
            "  Batch 1,450  of  2,500.\n",
            "  Batch 1,500  of  2,500.\n",
            "  Batch 1,550  of  2,500.\n",
            "  Batch 1,600  of  2,500.\n",
            "  Batch 1,650  of  2,500.\n",
            "  Batch 1,700  of  2,500.\n",
            "  Batch 1,750  of  2,500.\n",
            "  Batch 1,800  of  2,500.\n",
            "  Batch 1,850  of  2,500.\n",
            "  Batch 1,900  of  2,500.\n",
            "  Batch 1,950  of  2,500.\n",
            "  Batch 2,000  of  2,500.\n",
            "  Batch 2,050  of  2,500.\n",
            "  Batch 2,100  of  2,500.\n",
            "  Batch 2,150  of  2,500.\n",
            "  Batch 2,200  of  2,500.\n",
            "  Batch 2,250  of  2,500.\n",
            "  Batch 2,300  of  2,500.\n",
            "  Batch 2,350  of  2,500.\n",
            "  Batch 2,400  of  2,500.\n",
            "  Batch 2,450  of  2,500.\n",
            "\n",
            "Evaluating...\n",
            "  Batch    50  of    625.\n",
            "  Batch   100  of    625.\n",
            "  Batch   150  of    625.\n",
            "  Batch   200  of    625.\n",
            "  Batch   250  of    625.\n",
            "  Batch   300  of    625.\n",
            "  Batch   350  of    625.\n",
            "  Batch   400  of    625.\n",
            "  Batch   450  of    625.\n",
            "  Batch   500  of    625.\n",
            "  Batch   550  of    625.\n",
            "  Batch   600  of    625.\n",
            "\n",
            "Training Loss: 0.490\n",
            "Validation Loss: 0.476\n",
            "\n",
            " Epoch 7 / 10\n",
            "  Batch    50  of  2,500.\n",
            "  Batch   100  of  2,500.\n",
            "  Batch   150  of  2,500.\n",
            "  Batch   200  of  2,500.\n",
            "  Batch   250  of  2,500.\n",
            "  Batch   300  of  2,500.\n",
            "  Batch   350  of  2,500.\n",
            "  Batch   400  of  2,500.\n",
            "  Batch   450  of  2,500.\n",
            "  Batch   500  of  2,500.\n",
            "  Batch   550  of  2,500.\n",
            "  Batch   600  of  2,500.\n",
            "  Batch   650  of  2,500.\n",
            "  Batch   700  of  2,500.\n",
            "  Batch   750  of  2,500.\n",
            "  Batch   800  of  2,500.\n",
            "  Batch   850  of  2,500.\n",
            "  Batch   900  of  2,500.\n",
            "  Batch   950  of  2,500.\n",
            "  Batch 1,000  of  2,500.\n",
            "  Batch 1,050  of  2,500.\n",
            "  Batch 1,100  of  2,500.\n",
            "  Batch 1,150  of  2,500.\n",
            "  Batch 1,200  of  2,500.\n",
            "  Batch 1,250  of  2,500.\n",
            "  Batch 1,300  of  2,500.\n",
            "  Batch 1,350  of  2,500.\n",
            "  Batch 1,400  of  2,500.\n",
            "  Batch 1,450  of  2,500.\n",
            "  Batch 1,500  of  2,500.\n",
            "  Batch 1,550  of  2,500.\n",
            "  Batch 1,600  of  2,500.\n",
            "  Batch 1,650  of  2,500.\n",
            "  Batch 1,700  of  2,500.\n",
            "  Batch 1,750  of  2,500.\n",
            "  Batch 1,800  of  2,500.\n",
            "  Batch 1,850  of  2,500.\n",
            "  Batch 1,900  of  2,500.\n",
            "  Batch 1,950  of  2,500.\n",
            "  Batch 2,000  of  2,500.\n",
            "  Batch 2,050  of  2,500.\n",
            "  Batch 2,100  of  2,500.\n",
            "  Batch 2,150  of  2,500.\n",
            "  Batch 2,200  of  2,500.\n",
            "  Batch 2,250  of  2,500.\n",
            "  Batch 2,300  of  2,500.\n",
            "  Batch 2,350  of  2,500.\n",
            "  Batch 2,400  of  2,500.\n",
            "  Batch 2,450  of  2,500.\n",
            "\n",
            "Evaluating...\n",
            "  Batch    50  of    625.\n",
            "  Batch   100  of    625.\n",
            "  Batch   150  of    625.\n",
            "  Batch   200  of    625.\n",
            "  Batch   250  of    625.\n",
            "  Batch   300  of    625.\n",
            "  Batch   350  of    625.\n",
            "  Batch   400  of    625.\n",
            "  Batch   450  of    625.\n",
            "  Batch   500  of    625.\n",
            "  Batch   550  of    625.\n",
            "  Batch   600  of    625.\n",
            "\n",
            "Training Loss: 0.486\n",
            "Validation Loss: 0.464\n",
            "\n",
            " Epoch 8 / 10\n",
            "  Batch    50  of  2,500.\n",
            "  Batch   100  of  2,500.\n",
            "  Batch   150  of  2,500.\n",
            "  Batch   200  of  2,500.\n",
            "  Batch   250  of  2,500.\n",
            "  Batch   300  of  2,500.\n",
            "  Batch   350  of  2,500.\n",
            "  Batch   400  of  2,500.\n",
            "  Batch   450  of  2,500.\n",
            "  Batch   500  of  2,500.\n",
            "  Batch   550  of  2,500.\n",
            "  Batch   600  of  2,500.\n",
            "  Batch   650  of  2,500.\n",
            "  Batch   700  of  2,500.\n",
            "  Batch   750  of  2,500.\n",
            "  Batch   800  of  2,500.\n",
            "  Batch   850  of  2,500.\n",
            "  Batch   900  of  2,500.\n",
            "  Batch   950  of  2,500.\n",
            "  Batch 1,000  of  2,500.\n",
            "  Batch 1,050  of  2,500.\n",
            "  Batch 1,100  of  2,500.\n",
            "  Batch 1,150  of  2,500.\n",
            "  Batch 1,200  of  2,500.\n",
            "  Batch 1,250  of  2,500.\n",
            "  Batch 1,300  of  2,500.\n",
            "  Batch 1,350  of  2,500.\n",
            "  Batch 1,400  of  2,500.\n",
            "  Batch 1,450  of  2,500.\n",
            "  Batch 1,500  of  2,500.\n",
            "  Batch 1,550  of  2,500.\n",
            "  Batch 1,600  of  2,500.\n",
            "  Batch 1,650  of  2,500.\n",
            "  Batch 1,700  of  2,500.\n",
            "  Batch 1,750  of  2,500.\n",
            "  Batch 1,800  of  2,500.\n",
            "  Batch 1,850  of  2,500.\n",
            "  Batch 1,900  of  2,500.\n",
            "  Batch 1,950  of  2,500.\n",
            "  Batch 2,000  of  2,500.\n",
            "  Batch 2,050  of  2,500.\n",
            "  Batch 2,100  of  2,500.\n",
            "  Batch 2,150  of  2,500.\n",
            "  Batch 2,200  of  2,500.\n",
            "  Batch 2,250  of  2,500.\n",
            "  Batch 2,300  of  2,500.\n",
            "  Batch 2,350  of  2,500.\n",
            "  Batch 2,400  of  2,500.\n",
            "  Batch 2,450  of  2,500.\n",
            "\n",
            "Evaluating...\n",
            "  Batch    50  of    625.\n",
            "  Batch   100  of    625.\n",
            "  Batch   150  of    625.\n",
            "  Batch   200  of    625.\n",
            "  Batch   250  of    625.\n",
            "  Batch   300  of    625.\n",
            "  Batch   350  of    625.\n",
            "  Batch   400  of    625.\n",
            "  Batch   450  of    625.\n",
            "  Batch   500  of    625.\n",
            "  Batch   550  of    625.\n",
            "  Batch   600  of    625.\n",
            "\n",
            "Training Loss: 0.486\n",
            "Validation Loss: 0.440\n",
            "\n",
            " Epoch 9 / 10\n",
            "  Batch    50  of  2,500.\n",
            "  Batch   100  of  2,500.\n",
            "  Batch   150  of  2,500.\n",
            "  Batch   200  of  2,500.\n",
            "  Batch   250  of  2,500.\n",
            "  Batch   300  of  2,500.\n",
            "  Batch   350  of  2,500.\n",
            "  Batch   400  of  2,500.\n",
            "  Batch   450  of  2,500.\n",
            "  Batch   500  of  2,500.\n",
            "  Batch   550  of  2,500.\n",
            "  Batch   600  of  2,500.\n",
            "  Batch   650  of  2,500.\n",
            "  Batch   700  of  2,500.\n",
            "  Batch   750  of  2,500.\n",
            "  Batch   800  of  2,500.\n",
            "  Batch   850  of  2,500.\n",
            "  Batch   900  of  2,500.\n",
            "  Batch   950  of  2,500.\n",
            "  Batch 1,000  of  2,500.\n",
            "  Batch 1,050  of  2,500.\n",
            "  Batch 1,100  of  2,500.\n",
            "  Batch 1,150  of  2,500.\n",
            "  Batch 1,200  of  2,500.\n",
            "  Batch 1,250  of  2,500.\n",
            "  Batch 1,300  of  2,500.\n",
            "  Batch 1,350  of  2,500.\n",
            "  Batch 1,400  of  2,500.\n",
            "  Batch 1,450  of  2,500.\n",
            "  Batch 1,500  of  2,500.\n",
            "  Batch 1,550  of  2,500.\n",
            "  Batch 1,600  of  2,500.\n",
            "  Batch 1,650  of  2,500.\n",
            "  Batch 1,700  of  2,500.\n",
            "  Batch 1,750  of  2,500.\n",
            "  Batch 1,800  of  2,500.\n",
            "  Batch 1,850  of  2,500.\n",
            "  Batch 1,900  of  2,500.\n",
            "  Batch 1,950  of  2,500.\n",
            "  Batch 2,000  of  2,500.\n",
            "  Batch 2,050  of  2,500.\n",
            "  Batch 2,100  of  2,500.\n",
            "  Batch 2,150  of  2,500.\n",
            "  Batch 2,200  of  2,500.\n",
            "  Batch 2,250  of  2,500.\n",
            "  Batch 2,300  of  2,500.\n",
            "  Batch 2,350  of  2,500.\n",
            "  Batch 2,400  of  2,500.\n",
            "  Batch 2,450  of  2,500.\n",
            "\n",
            "Evaluating...\n",
            "  Batch    50  of    625.\n",
            "  Batch   100  of    625.\n",
            "  Batch   150  of    625.\n",
            "  Batch   200  of    625.\n",
            "  Batch   250  of    625.\n",
            "  Batch   300  of    625.\n",
            "  Batch   350  of    625.\n",
            "  Batch   400  of    625.\n",
            "  Batch   450  of    625.\n",
            "  Batch   500  of    625.\n",
            "  Batch   550  of    625.\n",
            "  Batch   600  of    625.\n",
            "\n",
            "Training Loss: 0.482\n",
            "Validation Loss: 0.474\n",
            "\n",
            " Epoch 10 / 10\n",
            "  Batch    50  of  2,500.\n",
            "  Batch   100  of  2,500.\n",
            "  Batch   150  of  2,500.\n",
            "  Batch   200  of  2,500.\n",
            "  Batch   250  of  2,500.\n",
            "  Batch   300  of  2,500.\n",
            "  Batch   350  of  2,500.\n",
            "  Batch   400  of  2,500.\n",
            "  Batch   450  of  2,500.\n",
            "  Batch   500  of  2,500.\n",
            "  Batch   550  of  2,500.\n",
            "  Batch   600  of  2,500.\n",
            "  Batch   650  of  2,500.\n",
            "  Batch   700  of  2,500.\n",
            "  Batch   750  of  2,500.\n",
            "  Batch   800  of  2,500.\n",
            "  Batch   850  of  2,500.\n",
            "  Batch   900  of  2,500.\n",
            "  Batch   950  of  2,500.\n",
            "  Batch 1,000  of  2,500.\n",
            "  Batch 1,050  of  2,500.\n",
            "  Batch 1,100  of  2,500.\n",
            "  Batch 1,150  of  2,500.\n",
            "  Batch 1,200  of  2,500.\n",
            "  Batch 1,250  of  2,500.\n",
            "  Batch 1,300  of  2,500.\n",
            "  Batch 1,350  of  2,500.\n",
            "  Batch 1,400  of  2,500.\n",
            "  Batch 1,450  of  2,500.\n",
            "  Batch 1,500  of  2,500.\n",
            "  Batch 1,550  of  2,500.\n",
            "  Batch 1,600  of  2,500.\n",
            "  Batch 1,650  of  2,500.\n",
            "  Batch 1,700  of  2,500.\n",
            "  Batch 1,750  of  2,500.\n",
            "  Batch 1,800  of  2,500.\n",
            "  Batch 1,850  of  2,500.\n",
            "  Batch 1,900  of  2,500.\n",
            "  Batch 1,950  of  2,500.\n",
            "  Batch 2,000  of  2,500.\n",
            "  Batch 2,050  of  2,500.\n",
            "  Batch 2,100  of  2,500.\n",
            "  Batch 2,150  of  2,500.\n",
            "  Batch 2,200  of  2,500.\n",
            "  Batch 2,250  of  2,500.\n",
            "  Batch 2,300  of  2,500.\n",
            "  Batch 2,350  of  2,500.\n",
            "  Batch 2,400  of  2,500.\n",
            "  Batch 2,450  of  2,500.\n",
            "\n",
            "Evaluating...\n",
            "  Batch    50  of    625.\n",
            "  Batch   100  of    625.\n",
            "  Batch   150  of    625.\n",
            "  Batch   200  of    625.\n",
            "  Batch   250  of    625.\n",
            "  Batch   300  of    625.\n",
            "  Batch   350  of    625.\n",
            "  Batch   400  of    625.\n",
            "  Batch   450  of    625.\n",
            "  Batch   500  of    625.\n",
            "  Batch   550  of    625.\n",
            "  Batch   600  of    625.\n",
            "\n",
            "Training Loss: 0.481\n",
            "Validation Loss: 0.457\n"
          ]
        }
      ],
      "source": [
        "# set initial loss to infinite\n",
        "best_valid_loss = float('inf')\n",
        "CUDA_LAUNCH_BLOCKING=1\n",
        "\n",
        "# empty lists to store training and validation loss of each epoch\n",
        "train_losses=[]\n",
        "valid_losses=[]\n",
        "\n",
        "#for each epoch\n",
        "for epoch in range(epochs):\n",
        "     \n",
        "    print('\\n Epoch {:} / {:}'.format(epoch + 1, epochs))\n",
        "    \n",
        "    #train model\n",
        "    train_loss, _ = train()\n",
        "    \n",
        "    #evaluate model\n",
        "    valid_loss, _ = evaluate()\n",
        "    \n",
        "    #save the best model\n",
        "    if valid_loss < best_valid_loss:\n",
        "        best_valid_loss = valid_loss\n",
        "        torch.save(model.state_dict(), 'saved_weights.pt')\n",
        "    \n",
        "    # append training and validation loss\n",
        "    train_losses.append(train_loss)\n",
        "    valid_losses.append(valid_loss)\n",
        "    \n",
        "    print(f'\\nTraining Loss: {train_loss:.3f}')\n",
        "    print(f'Validation Loss: {valid_loss:.3f}')"
      ]
    },
    {
      "cell_type": "markdown",
      "metadata": {
        "id": "_yrhUc9kTI5a"
      },
      "source": [
        "# Load Saved Model"
      ]
    },
    {
      "cell_type": "code",
      "source": [
        "torch.save(model.state_dict(), '/content/gdrive/MyDrive/IASD_2/NLP/saved_weights.pt')"
      ],
      "metadata": {
        "id": "wsutlwYo_m_L"
      },
      "execution_count": null,
      "outputs": []
    },
    {
      "cell_type": "code",
      "execution_count": null,
      "metadata": {
        "id": "OacxUyizS8d1",
        "colab": {
          "base_uri": "https://localhost:8080/"
        },
        "outputId": "80e720dc-7021-487a-c682-b5464832bab3"
      },
      "outputs": [
        {
          "output_type": "execute_result",
          "data": {
            "text/plain": [
              "<All keys matched successfully>"
            ]
          },
          "metadata": {},
          "execution_count": 18
        }
      ],
      "source": [
        "#load weights of best model\n",
        "path = '/content/gdrive/MyDrive/IASD_2/NLP/saved_weights.pt'\n",
        "model.load_state_dict(torch.load(path))"
      ]
    },
    {
      "cell_type": "markdown",
      "metadata": {
        "id": "x4SVftkkTZXA"
      },
      "source": [
        "# Get Predictions for Test Data"
      ]
    },
    {
      "cell_type": "code",
      "source": [
        "test_seq2=test_seq.to(device)"
      ],
      "metadata": {
        "id": "WyQS4CmgBl7Q"
      },
      "execution_count": null,
      "outputs": []
    },
    {
      "cell_type": "code",
      "source": [
        "test_mask2=test_mask.to(device)"
      ],
      "metadata": {
        "id": "XGp-NBprBqoG"
      },
      "execution_count": null,
      "outputs": []
    },
    {
      "cell_type": "code",
      "source": [
        "torch.cuda.memory_summary(device=None, abbreviated=False)"
      ],
      "metadata": {
        "colab": {
          "base_uri": "https://localhost:8080/",
          "height": 123
        },
        "id": "Bv0FoEFOFaB8",
        "outputId": "6a1cfff5-cd5a-4b5e-8784-d52a010fe3cc"
      },
      "execution_count": null,
      "outputs": [
        {
          "output_type": "execute_result",
          "data": {
            "text/plain": [
              "'|===========================================================================|\\n|                  PyTorch CUDA memory summary, device ID 0                 |\\n|---------------------------------------------------------------------------|\\n|            CUDA OOMs: 1            |        cudaMalloc retries: 1         |\\n|===========================================================================|\\n|        Metric         | Cur Usage  | Peak Usage | Tot Alloc  | Tot Freed  |\\n|---------------------------------------------------------------------------|\\n| Allocated memory      |  11322 MiB |  11322 MiB |  11762 MiB | 450165 KiB |\\n|       from large pool |  11321 MiB |  11321 MiB |  11760 MiB | 449672 KiB |\\n|       from small pool |      0 MiB |      0 MiB |      1 MiB |    493 KiB |\\n|---------------------------------------------------------------------------|\\n| Active memory         |  11322 MiB |  11322 MiB |  11762 MiB | 450165 KiB |\\n|       from large pool |  11321 MiB |  11321 MiB |  11760 MiB | 449672 KiB |\\n|       from small pool |      0 MiB |      0 MiB |      1 MiB |    493 KiB |\\n|---------------------------------------------------------------------------|\\n| Requested memory      |  11319 MiB |  11319 MiB |  11757 MiB | 448546 KiB |\\n|       from large pool |  11318 MiB |  11318 MiB |  11756 MiB | 448053 KiB |\\n|       from small pool |      0 MiB |      0 MiB |      1 MiB |    493 KiB |\\n|---------------------------------------------------------------------------|\\n| GPU reserved memory   |  11370 MiB |  11800 MiB |  11800 MiB | 440320 KiB |\\n|       from large pool |  11368 MiB |  11798 MiB |  11798 MiB | 440320 KiB |\\n|       from small pool |      2 MiB |      2 MiB |      2 MiB |      0 KiB |\\n|---------------------------------------------------------------------------|\\n| Non-releasable memory |  48729 KiB | 124037 KiB |    778 MiB | 747978 KiB |\\n|       from large pool |  47254 KiB | 122880 KiB |    775 MiB | 746918 KiB |\\n|       from small pool |   1475 KiB |   2042 KiB |      2 MiB |   1060 KiB |\\n|---------------------------------------------------------------------------|\\n| Allocations           |     212    |     409    |     419    |     207    |\\n|       from large pool |      82    |     152    |     161    |      79    |\\n|       from small pool |     130    |     257    |     258    |     128    |\\n|---------------------------------------------------------------------------|\\n| Active allocs         |     212    |     409    |     419    |     207    |\\n|       from large pool |      82    |     152    |     161    |      79    |\\n|       from small pool |     130    |     257    |     258    |     128    |\\n|---------------------------------------------------------------------------|\\n| GPU reserved segments |      25    |      43    |      43    |      18    |\\n|       from large pool |      24    |      42    |      42    |      18    |\\n|       from small pool |       1    |       1    |       1    |       0    |\\n|---------------------------------------------------------------------------|\\n| Non-releasable allocs |      20    |      38    |      61    |      41    |\\n|       from large pool |      19    |      36    |      59    |      40    |\\n|       from small pool |       1    |       2    |       2    |       1    |\\n|---------------------------------------------------------------------------|\\n| Oversize allocations  |       0    |       0    |       0    |       0    |\\n|---------------------------------------------------------------------------|\\n| Oversize GPU segments |       0    |       0    |       0    |       0    |\\n|===========================================================================|\\n'"
            ],
            "application/vnd.google.colaboratory.intrinsic+json": {
              "type": "string"
            }
          },
          "metadata": {},
          "execution_count": 24
        }
      ]
    },
    {
      "cell_type": "code",
      "execution_count": null,
      "metadata": {
        "id": "NZl0SZmFTRQA",
        "colab": {
          "base_uri": "https://localhost:8080/",
          "height": 381
        },
        "outputId": "dd3c18a8-fef4-41f8-9dc4-e3cefb89087e"
      },
      "outputs": [
        {
          "output_type": "error",
          "ename": "OutOfMemoryError",
          "evalue": "ignored",
          "traceback": [
            "\u001b[0;31m---------------------------------------------------------------------------\u001b[0m",
            "\u001b[0;31mOutOfMemoryError\u001b[0m                          Traceback (most recent call last)",
            "\u001b[0;32m<ipython-input-22-46eb96c45090>\u001b[0m in \u001b[0;36m<cell line: 2>\u001b[0;34m()\u001b[0m\n\u001b[1;32m      1\u001b[0m \u001b[0;31m# get predictions for test data\u001b[0m\u001b[0;34m\u001b[0m\u001b[0;34m\u001b[0m\u001b[0m\n\u001b[1;32m      2\u001b[0m \u001b[0;32mwith\u001b[0m \u001b[0mtorch\u001b[0m\u001b[0;34m.\u001b[0m\u001b[0mno_grad\u001b[0m\u001b[0;34m(\u001b[0m\u001b[0;34m)\u001b[0m\u001b[0;34m:\u001b[0m\u001b[0;34m\u001b[0m\u001b[0;34m\u001b[0m\u001b[0m\n\u001b[0;32m----> 3\u001b[0;31m   \u001b[0mpreds\u001b[0m \u001b[0;34m=\u001b[0m \u001b[0mmodel\u001b[0m\u001b[0;34m(\u001b[0m\u001b[0mtest_seq2\u001b[0m\u001b[0;34m,\u001b[0m \u001b[0mtest_mask2\u001b[0m\u001b[0;34m)\u001b[0m\u001b[0;34m\u001b[0m\u001b[0;34m\u001b[0m\u001b[0m\n\u001b[0m\u001b[1;32m      4\u001b[0m   \u001b[0mpreds\u001b[0m \u001b[0;34m=\u001b[0m \u001b[0mpreds\u001b[0m\u001b[0;34m.\u001b[0m\u001b[0mdetach\u001b[0m\u001b[0;34m(\u001b[0m\u001b[0;34m)\u001b[0m\u001b[0;34m.\u001b[0m\u001b[0mcpu\u001b[0m\u001b[0;34m(\u001b[0m\u001b[0;34m)\u001b[0m\u001b[0;34m.\u001b[0m\u001b[0mnumpy\u001b[0m\u001b[0;34m(\u001b[0m\u001b[0;34m)\u001b[0m\u001b[0;34m\u001b[0m\u001b[0;34m\u001b[0m\u001b[0m\n",
            "\u001b[0;32m/usr/local/lib/python3.10/dist-packages/torch/nn/modules/module.py\u001b[0m in \u001b[0;36m_call_impl\u001b[0;34m(self, *args, **kwargs)\u001b[0m\n\u001b[1;32m   1499\u001b[0m                 \u001b[0;32mor\u001b[0m \u001b[0m_global_backward_pre_hooks\u001b[0m \u001b[0;32mor\u001b[0m \u001b[0m_global_backward_hooks\u001b[0m\u001b[0;34m\u001b[0m\u001b[0;34m\u001b[0m\u001b[0m\n\u001b[1;32m   1500\u001b[0m                 or _global_forward_hooks or _global_forward_pre_hooks):\n\u001b[0;32m-> 1501\u001b[0;31m             \u001b[0;32mreturn\u001b[0m \u001b[0mforward_call\u001b[0m\u001b[0;34m(\u001b[0m\u001b[0;34m*\u001b[0m\u001b[0margs\u001b[0m\u001b[0;34m,\u001b[0m \u001b[0;34m**\u001b[0m\u001b[0mkwargs\u001b[0m\u001b[0;34m)\u001b[0m\u001b[0;34m\u001b[0m\u001b[0;34m\u001b[0m\u001b[0m\n\u001b[0m\u001b[1;32m   1502\u001b[0m         \u001b[0;31m# Do not call functions when jit is used\u001b[0m\u001b[0;34m\u001b[0m\u001b[0;34m\u001b[0m\u001b[0m\n\u001b[1;32m   1503\u001b[0m         \u001b[0mfull_backward_hooks\u001b[0m\u001b[0;34m,\u001b[0m \u001b[0mnon_full_backward_hooks\u001b[0m \u001b[0;34m=\u001b[0m \u001b[0;34m[\u001b[0m\u001b[0;34m]\u001b[0m\u001b[0;34m,\u001b[0m \u001b[0;34m[\u001b[0m\u001b[0;34m]\u001b[0m\u001b[0;34m\u001b[0m\u001b[0;34m\u001b[0m\u001b[0m\n",
            "\u001b[0;32m<ipython-input-14-c30e289f7bd1>\u001b[0m in \u001b[0;36mforward\u001b[0;34m(self, sent_id, mask)\u001b[0m\n\u001b[1;32m     16\u001b[0m     \u001b[0;32mdef\u001b[0m \u001b[0mforward\u001b[0m\u001b[0;34m(\u001b[0m\u001b[0mself\u001b[0m\u001b[0;34m,\u001b[0m \u001b[0msent_id\u001b[0m\u001b[0;34m,\u001b[0m \u001b[0mmask\u001b[0m\u001b[0;34m)\u001b[0m\u001b[0;34m:\u001b[0m\u001b[0;34m\u001b[0m\u001b[0;34m\u001b[0m\u001b[0m\n\u001b[1;32m     17\u001b[0m       \u001b[0;31m#pass the inputs to the model\u001b[0m\u001b[0;34m\u001b[0m\u001b[0;34m\u001b[0m\u001b[0m\n\u001b[0;32m---> 18\u001b[0;31m       \u001b[0m_\u001b[0m\u001b[0;34m,\u001b[0m \u001b[0mcls_hs\u001b[0m \u001b[0;34m=\u001b[0m \u001b[0mself\u001b[0m\u001b[0;34m.\u001b[0m\u001b[0mbert\u001b[0m\u001b[0;34m(\u001b[0m\u001b[0msent_id\u001b[0m\u001b[0;34m,\u001b[0m \u001b[0mattention_mask\u001b[0m\u001b[0;34m=\u001b[0m\u001b[0mmask\u001b[0m\u001b[0;34m,\u001b[0m\u001b[0mreturn_dict\u001b[0m\u001b[0;34m=\u001b[0m\u001b[0;32mFalse\u001b[0m\u001b[0;34m)\u001b[0m\u001b[0;34m\u001b[0m\u001b[0;34m\u001b[0m\u001b[0m\n\u001b[0m\u001b[1;32m     19\u001b[0m       \u001b[0mx\u001b[0m \u001b[0;34m=\u001b[0m \u001b[0mself\u001b[0m\u001b[0;34m.\u001b[0m\u001b[0mfc1\u001b[0m\u001b[0;34m(\u001b[0m\u001b[0mcls_hs\u001b[0m\u001b[0;34m)\u001b[0m\u001b[0;34m\u001b[0m\u001b[0;34m\u001b[0m\u001b[0m\n\u001b[1;32m     20\u001b[0m       \u001b[0mx\u001b[0m \u001b[0;34m=\u001b[0m \u001b[0mself\u001b[0m\u001b[0;34m.\u001b[0m\u001b[0mrelu\u001b[0m\u001b[0;34m(\u001b[0m\u001b[0mx\u001b[0m\u001b[0;34m)\u001b[0m\u001b[0;34m\u001b[0m\u001b[0;34m\u001b[0m\u001b[0m\n",
            "\u001b[0;32m/usr/local/lib/python3.10/dist-packages/torch/nn/modules/module.py\u001b[0m in \u001b[0;36m_call_impl\u001b[0;34m(self, *args, **kwargs)\u001b[0m\n\u001b[1;32m   1499\u001b[0m                 \u001b[0;32mor\u001b[0m \u001b[0m_global_backward_pre_hooks\u001b[0m \u001b[0;32mor\u001b[0m \u001b[0m_global_backward_hooks\u001b[0m\u001b[0;34m\u001b[0m\u001b[0;34m\u001b[0m\u001b[0m\n\u001b[1;32m   1500\u001b[0m                 or _global_forward_hooks or _global_forward_pre_hooks):\n\u001b[0;32m-> 1501\u001b[0;31m             \u001b[0;32mreturn\u001b[0m \u001b[0mforward_call\u001b[0m\u001b[0;34m(\u001b[0m\u001b[0;34m*\u001b[0m\u001b[0margs\u001b[0m\u001b[0;34m,\u001b[0m \u001b[0;34m**\u001b[0m\u001b[0mkwargs\u001b[0m\u001b[0;34m)\u001b[0m\u001b[0;34m\u001b[0m\u001b[0;34m\u001b[0m\u001b[0m\n\u001b[0m\u001b[1;32m   1502\u001b[0m         \u001b[0;31m# Do not call functions when jit is used\u001b[0m\u001b[0;34m\u001b[0m\u001b[0;34m\u001b[0m\u001b[0m\n\u001b[1;32m   1503\u001b[0m         \u001b[0mfull_backward_hooks\u001b[0m\u001b[0;34m,\u001b[0m \u001b[0mnon_full_backward_hooks\u001b[0m \u001b[0;34m=\u001b[0m \u001b[0;34m[\u001b[0m\u001b[0;34m]\u001b[0m\u001b[0;34m,\u001b[0m \u001b[0;34m[\u001b[0m\u001b[0;34m]\u001b[0m\u001b[0;34m\u001b[0m\u001b[0;34m\u001b[0m\u001b[0m\n",
            "\u001b[0;32m/usr/local/lib/python3.10/dist-packages/transformers/models/bert/modeling_bert.py\u001b[0m in \u001b[0;36mforward\u001b[0;34m(self, input_ids, attention_mask, token_type_ids, position_ids, head_mask, inputs_embeds, encoder_hidden_states, encoder_attention_mask, past_key_values, use_cache, output_attentions, output_hidden_states, return_dict)\u001b[0m\n\u001b[1;32m   1011\u001b[0m         \u001b[0mhead_mask\u001b[0m \u001b[0;34m=\u001b[0m \u001b[0mself\u001b[0m\u001b[0;34m.\u001b[0m\u001b[0mget_head_mask\u001b[0m\u001b[0;34m(\u001b[0m\u001b[0mhead_mask\u001b[0m\u001b[0;34m,\u001b[0m \u001b[0mself\u001b[0m\u001b[0;34m.\u001b[0m\u001b[0mconfig\u001b[0m\u001b[0;34m.\u001b[0m\u001b[0mnum_hidden_layers\u001b[0m\u001b[0;34m)\u001b[0m\u001b[0;34m\u001b[0m\u001b[0;34m\u001b[0m\u001b[0m\n\u001b[1;32m   1012\u001b[0m \u001b[0;34m\u001b[0m\u001b[0m\n\u001b[0;32m-> 1013\u001b[0;31m         embedding_output = self.embeddings(\n\u001b[0m\u001b[1;32m   1014\u001b[0m             \u001b[0minput_ids\u001b[0m\u001b[0;34m=\u001b[0m\u001b[0minput_ids\u001b[0m\u001b[0;34m,\u001b[0m\u001b[0;34m\u001b[0m\u001b[0;34m\u001b[0m\u001b[0m\n\u001b[1;32m   1015\u001b[0m             \u001b[0mposition_ids\u001b[0m\u001b[0;34m=\u001b[0m\u001b[0mposition_ids\u001b[0m\u001b[0;34m,\u001b[0m\u001b[0;34m\u001b[0m\u001b[0;34m\u001b[0m\u001b[0m\n",
            "\u001b[0;32m/usr/local/lib/python3.10/dist-packages/torch/nn/modules/module.py\u001b[0m in \u001b[0;36m_call_impl\u001b[0;34m(self, *args, **kwargs)\u001b[0m\n\u001b[1;32m   1499\u001b[0m                 \u001b[0;32mor\u001b[0m \u001b[0m_global_backward_pre_hooks\u001b[0m \u001b[0;32mor\u001b[0m \u001b[0m_global_backward_hooks\u001b[0m\u001b[0;34m\u001b[0m\u001b[0;34m\u001b[0m\u001b[0m\n\u001b[1;32m   1500\u001b[0m                 or _global_forward_hooks or _global_forward_pre_hooks):\n\u001b[0;32m-> 1501\u001b[0;31m             \u001b[0;32mreturn\u001b[0m \u001b[0mforward_call\u001b[0m\u001b[0;34m(\u001b[0m\u001b[0;34m*\u001b[0m\u001b[0margs\u001b[0m\u001b[0;34m,\u001b[0m \u001b[0;34m**\u001b[0m\u001b[0mkwargs\u001b[0m\u001b[0;34m)\u001b[0m\u001b[0;34m\u001b[0m\u001b[0;34m\u001b[0m\u001b[0m\n\u001b[0m\u001b[1;32m   1502\u001b[0m         \u001b[0;31m# Do not call functions when jit is used\u001b[0m\u001b[0;34m\u001b[0m\u001b[0;34m\u001b[0m\u001b[0m\n\u001b[1;32m   1503\u001b[0m         \u001b[0mfull_backward_hooks\u001b[0m\u001b[0;34m,\u001b[0m \u001b[0mnon_full_backward_hooks\u001b[0m \u001b[0;34m=\u001b[0m \u001b[0;34m[\u001b[0m\u001b[0;34m]\u001b[0m\u001b[0;34m,\u001b[0m \u001b[0;34m[\u001b[0m\u001b[0;34m]\u001b[0m\u001b[0;34m\u001b[0m\u001b[0;34m\u001b[0m\u001b[0m\n",
            "\u001b[0;32m/usr/local/lib/python3.10/dist-packages/transformers/models/bert/modeling_bert.py\u001b[0m in \u001b[0;36mforward\u001b[0;34m(self, input_ids, token_type_ids, position_ids, inputs_embeds, past_key_values_length)\u001b[0m\n\u001b[1;32m    228\u001b[0m \u001b[0;34m\u001b[0m\u001b[0m\n\u001b[1;32m    229\u001b[0m         \u001b[0;32mif\u001b[0m \u001b[0minputs_embeds\u001b[0m \u001b[0;32mis\u001b[0m \u001b[0;32mNone\u001b[0m\u001b[0;34m:\u001b[0m\u001b[0;34m\u001b[0m\u001b[0;34m\u001b[0m\u001b[0m\n\u001b[0;32m--> 230\u001b[0;31m             \u001b[0minputs_embeds\u001b[0m \u001b[0;34m=\u001b[0m \u001b[0mself\u001b[0m\u001b[0;34m.\u001b[0m\u001b[0mword_embeddings\u001b[0m\u001b[0;34m(\u001b[0m\u001b[0minput_ids\u001b[0m\u001b[0;34m)\u001b[0m\u001b[0;34m\u001b[0m\u001b[0;34m\u001b[0m\u001b[0m\n\u001b[0m\u001b[1;32m    231\u001b[0m         \u001b[0mtoken_type_embeddings\u001b[0m \u001b[0;34m=\u001b[0m \u001b[0mself\u001b[0m\u001b[0;34m.\u001b[0m\u001b[0mtoken_type_embeddings\u001b[0m\u001b[0;34m(\u001b[0m\u001b[0mtoken_type_ids\u001b[0m\u001b[0;34m)\u001b[0m\u001b[0;34m\u001b[0m\u001b[0;34m\u001b[0m\u001b[0m\n\u001b[1;32m    232\u001b[0m \u001b[0;34m\u001b[0m\u001b[0m\n",
            "\u001b[0;32m/usr/local/lib/python3.10/dist-packages/torch/nn/modules/module.py\u001b[0m in \u001b[0;36m_call_impl\u001b[0;34m(self, *args, **kwargs)\u001b[0m\n\u001b[1;32m   1499\u001b[0m                 \u001b[0;32mor\u001b[0m \u001b[0m_global_backward_pre_hooks\u001b[0m \u001b[0;32mor\u001b[0m \u001b[0m_global_backward_hooks\u001b[0m\u001b[0;34m\u001b[0m\u001b[0;34m\u001b[0m\u001b[0m\n\u001b[1;32m   1500\u001b[0m                 or _global_forward_hooks or _global_forward_pre_hooks):\n\u001b[0;32m-> 1501\u001b[0;31m             \u001b[0;32mreturn\u001b[0m \u001b[0mforward_call\u001b[0m\u001b[0;34m(\u001b[0m\u001b[0;34m*\u001b[0m\u001b[0margs\u001b[0m\u001b[0;34m,\u001b[0m \u001b[0;34m**\u001b[0m\u001b[0mkwargs\u001b[0m\u001b[0;34m)\u001b[0m\u001b[0;34m\u001b[0m\u001b[0;34m\u001b[0m\u001b[0m\n\u001b[0m\u001b[1;32m   1502\u001b[0m         \u001b[0;31m# Do not call functions when jit is used\u001b[0m\u001b[0;34m\u001b[0m\u001b[0;34m\u001b[0m\u001b[0m\n\u001b[1;32m   1503\u001b[0m         \u001b[0mfull_backward_hooks\u001b[0m\u001b[0;34m,\u001b[0m \u001b[0mnon_full_backward_hooks\u001b[0m \u001b[0;34m=\u001b[0m \u001b[0;34m[\u001b[0m\u001b[0;34m]\u001b[0m\u001b[0;34m,\u001b[0m \u001b[0;34m[\u001b[0m\u001b[0;34m]\u001b[0m\u001b[0;34m\u001b[0m\u001b[0;34m\u001b[0m\u001b[0m\n",
            "\u001b[0;32m/usr/local/lib/python3.10/dist-packages/torch/nn/modules/sparse.py\u001b[0m in \u001b[0;36mforward\u001b[0;34m(self, input)\u001b[0m\n\u001b[1;32m    160\u001b[0m \u001b[0;34m\u001b[0m\u001b[0m\n\u001b[1;32m    161\u001b[0m     \u001b[0;32mdef\u001b[0m \u001b[0mforward\u001b[0m\u001b[0;34m(\u001b[0m\u001b[0mself\u001b[0m\u001b[0;34m,\u001b[0m \u001b[0minput\u001b[0m\u001b[0;34m:\u001b[0m \u001b[0mTensor\u001b[0m\u001b[0;34m)\u001b[0m \u001b[0;34m->\u001b[0m \u001b[0mTensor\u001b[0m\u001b[0;34m:\u001b[0m\u001b[0;34m\u001b[0m\u001b[0;34m\u001b[0m\u001b[0m\n\u001b[0;32m--> 162\u001b[0;31m         return F.embedding(\n\u001b[0m\u001b[1;32m    163\u001b[0m             \u001b[0minput\u001b[0m\u001b[0;34m,\u001b[0m \u001b[0mself\u001b[0m\u001b[0;34m.\u001b[0m\u001b[0mweight\u001b[0m\u001b[0;34m,\u001b[0m \u001b[0mself\u001b[0m\u001b[0;34m.\u001b[0m\u001b[0mpadding_idx\u001b[0m\u001b[0;34m,\u001b[0m \u001b[0mself\u001b[0m\u001b[0;34m.\u001b[0m\u001b[0mmax_norm\u001b[0m\u001b[0;34m,\u001b[0m\u001b[0;34m\u001b[0m\u001b[0;34m\u001b[0m\u001b[0m\n\u001b[1;32m    164\u001b[0m             self.norm_type, self.scale_grad_by_freq, self.sparse)\n",
            "\u001b[0;32m/usr/local/lib/python3.10/dist-packages/torch/nn/functional.py\u001b[0m in \u001b[0;36membedding\u001b[0;34m(input, weight, padding_idx, max_norm, norm_type, scale_grad_by_freq, sparse)\u001b[0m\n\u001b[1;32m   2208\u001b[0m         \u001b[0;31m# remove once script supports set_grad_enabled\u001b[0m\u001b[0;34m\u001b[0m\u001b[0;34m\u001b[0m\u001b[0m\n\u001b[1;32m   2209\u001b[0m         \u001b[0m_no_grad_embedding_renorm_\u001b[0m\u001b[0;34m(\u001b[0m\u001b[0mweight\u001b[0m\u001b[0;34m,\u001b[0m \u001b[0minput\u001b[0m\u001b[0;34m,\u001b[0m \u001b[0mmax_norm\u001b[0m\u001b[0;34m,\u001b[0m \u001b[0mnorm_type\u001b[0m\u001b[0;34m)\u001b[0m\u001b[0;34m\u001b[0m\u001b[0;34m\u001b[0m\u001b[0m\n\u001b[0;32m-> 2210\u001b[0;31m     \u001b[0;32mreturn\u001b[0m \u001b[0mtorch\u001b[0m\u001b[0;34m.\u001b[0m\u001b[0membedding\u001b[0m\u001b[0;34m(\u001b[0m\u001b[0mweight\u001b[0m\u001b[0;34m,\u001b[0m \u001b[0minput\u001b[0m\u001b[0;34m,\u001b[0m \u001b[0mpadding_idx\u001b[0m\u001b[0;34m,\u001b[0m \u001b[0mscale_grad_by_freq\u001b[0m\u001b[0;34m,\u001b[0m \u001b[0msparse\u001b[0m\u001b[0;34m)\u001b[0m\u001b[0;34m\u001b[0m\u001b[0;34m\u001b[0m\u001b[0m\n\u001b[0m\u001b[1;32m   2211\u001b[0m \u001b[0;34m\u001b[0m\u001b[0m\n\u001b[1;32m   2212\u001b[0m \u001b[0;34m\u001b[0m\u001b[0m\n",
            "\u001b[0;31mOutOfMemoryError\u001b[0m: CUDA out of memory. Tried to allocate 3.54 GiB (GPU 0; 14.75 GiB total capacity; 11.06 GiB already allocated; 3.51 GiB free; 11.12 GiB reserved in total by PyTorch) If reserved memory is >> allocated memory try setting max_split_size_mb to avoid fragmentation.  See documentation for Memory Management and PYTORCH_CUDA_ALLOC_CONF"
          ]
        }
      ],
      "source": [
        "# get predictions for test data\n",
        "with torch.no_grad():\n",
        "  preds = model(test_seq2, test_mask2)\n",
        "  preds = preds.detach().cpu().numpy()"
      ]
    },
    {
      "cell_type": "code",
      "execution_count": null,
      "metadata": {
        "id": "Ms1ObHZxTYSI"
      },
      "outputs": [],
      "source": [
        "# model's performance\n",
        "preds = np.argmax(preds, axis = 1)\n",
        "print(classification_report(test_y, preds))"
      ]
    },
    {
      "cell_type": "code",
      "execution_count": null,
      "metadata": {
        "id": "YqzLS7rHTp4T"
      },
      "outputs": [],
      "source": [
        "# confusion matrix\n",
        "pd.crosstab(test_y, preds)"
      ]
    },
    {
      "cell_type": "code",
      "execution_count": null,
      "metadata": {
        "id": "jpX1uTwjUPY6"
      },
      "outputs": [],
      "source": []
    }
  ],
  "metadata": {
    "colab": {
      "provenance": [],
      "gpuType": "T4"
    },
    "gpuClass": "standard",
    "kernelspec": {
      "display_name": "Python 3",
      "name": "python3"
    },
    "accelerator": "GPU"
  },
  "nbformat": 4,
  "nbformat_minor": 0
}